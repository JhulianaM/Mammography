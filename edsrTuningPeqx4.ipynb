{
  "nbformat": 4,
  "nbformat_minor": 0,
  "metadata": {
    "colab": {
      "provenance": [],
      "gpuType": "T4",
      "authorship_tag": "ABX9TyOtWkxb1RhDMZ9j/+WXsH8K",
      "include_colab_link": true
    },
    "kernelspec": {
      "name": "python3",
      "display_name": "Python 3"
    },
    "language_info": {
      "name": "python"
    },
    "accelerator": "GPU"
  },
  "cells": [
    {
      "cell_type": "markdown",
      "metadata": {
        "id": "view-in-github",
        "colab_type": "text"
      },
      "source": [
        "<a href=\"https://colab.research.google.com/github/JhulianaM/Mammography/blob/master/edsrTuningPeqx4.ipynb\" target=\"_parent\"><img src=\"https://colab.research.google.com/assets/colab-badge.svg\" alt=\"Open In Colab\"/></a>"
      ]
    },
    {
      "cell_type": "code",
      "execution_count": 1,
      "metadata": {
        "colab": {
          "base_uri": "https://localhost:8080/",
          "height": 1000
        },
        "id": "3IySGDtdHIm_",
        "outputId": "78b01ab7-d010-494c-c383-478b08a959e1"
      },
      "outputs": [
        {
          "output_type": "display_data",
          "data": {
            "text/plain": [
              "<IPython.core.display.HTML object>"
            ],
            "text/html": [
              "\n",
              "     <input type=\"file\" id=\"files-882e3e14-cd58-4b1b-8513-b5a8a58c15c1\" name=\"files[]\" multiple disabled\n",
              "        style=\"border:none\" />\n",
              "     <output id=\"result-882e3e14-cd58-4b1b-8513-b5a8a58c15c1\">\n",
              "      Upload widget is only available when the cell has been executed in the\n",
              "      current browser session. Please rerun this cell to enable.\n",
              "      </output>\n",
              "      <script>// Copyright 2017 Google LLC\n",
              "//\n",
              "// Licensed under the Apache License, Version 2.0 (the \"License\");\n",
              "// you may not use this file except in compliance with the License.\n",
              "// You may obtain a copy of the License at\n",
              "//\n",
              "//      http://www.apache.org/licenses/LICENSE-2.0\n",
              "//\n",
              "// Unless required by applicable law or agreed to in writing, software\n",
              "// distributed under the License is distributed on an \"AS IS\" BASIS,\n",
              "// WITHOUT WARRANTIES OR CONDITIONS OF ANY KIND, either express or implied.\n",
              "// See the License for the specific language governing permissions and\n",
              "// limitations under the License.\n",
              "\n",
              "/**\n",
              " * @fileoverview Helpers for google.colab Python module.\n",
              " */\n",
              "(function(scope) {\n",
              "function span(text, styleAttributes = {}) {\n",
              "  const element = document.createElement('span');\n",
              "  element.textContent = text;\n",
              "  for (const key of Object.keys(styleAttributes)) {\n",
              "    element.style[key] = styleAttributes[key];\n",
              "  }\n",
              "  return element;\n",
              "}\n",
              "\n",
              "// Max number of bytes which will be uploaded at a time.\n",
              "const MAX_PAYLOAD_SIZE = 100 * 1024;\n",
              "\n",
              "function _uploadFiles(inputId, outputId) {\n",
              "  const steps = uploadFilesStep(inputId, outputId);\n",
              "  const outputElement = document.getElementById(outputId);\n",
              "  // Cache steps on the outputElement to make it available for the next call\n",
              "  // to uploadFilesContinue from Python.\n",
              "  outputElement.steps = steps;\n",
              "\n",
              "  return _uploadFilesContinue(outputId);\n",
              "}\n",
              "\n",
              "// This is roughly an async generator (not supported in the browser yet),\n",
              "// where there are multiple asynchronous steps and the Python side is going\n",
              "// to poll for completion of each step.\n",
              "// This uses a Promise to block the python side on completion of each step,\n",
              "// then passes the result of the previous step as the input to the next step.\n",
              "function _uploadFilesContinue(outputId) {\n",
              "  const outputElement = document.getElementById(outputId);\n",
              "  const steps = outputElement.steps;\n",
              "\n",
              "  const next = steps.next(outputElement.lastPromiseValue);\n",
              "  return Promise.resolve(next.value.promise).then((value) => {\n",
              "    // Cache the last promise value to make it available to the next\n",
              "    // step of the generator.\n",
              "    outputElement.lastPromiseValue = value;\n",
              "    return next.value.response;\n",
              "  });\n",
              "}\n",
              "\n",
              "/**\n",
              " * Generator function which is called between each async step of the upload\n",
              " * process.\n",
              " * @param {string} inputId Element ID of the input file picker element.\n",
              " * @param {string} outputId Element ID of the output display.\n",
              " * @return {!Iterable<!Object>} Iterable of next steps.\n",
              " */\n",
              "function* uploadFilesStep(inputId, outputId) {\n",
              "  const inputElement = document.getElementById(inputId);\n",
              "  inputElement.disabled = false;\n",
              "\n",
              "  const outputElement = document.getElementById(outputId);\n",
              "  outputElement.innerHTML = '';\n",
              "\n",
              "  const pickedPromise = new Promise((resolve) => {\n",
              "    inputElement.addEventListener('change', (e) => {\n",
              "      resolve(e.target.files);\n",
              "    });\n",
              "  });\n",
              "\n",
              "  const cancel = document.createElement('button');\n",
              "  inputElement.parentElement.appendChild(cancel);\n",
              "  cancel.textContent = 'Cancel upload';\n",
              "  const cancelPromise = new Promise((resolve) => {\n",
              "    cancel.onclick = () => {\n",
              "      resolve(null);\n",
              "    };\n",
              "  });\n",
              "\n",
              "  // Wait for the user to pick the files.\n",
              "  const files = yield {\n",
              "    promise: Promise.race([pickedPromise, cancelPromise]),\n",
              "    response: {\n",
              "      action: 'starting',\n",
              "    }\n",
              "  };\n",
              "\n",
              "  cancel.remove();\n",
              "\n",
              "  // Disable the input element since further picks are not allowed.\n",
              "  inputElement.disabled = true;\n",
              "\n",
              "  if (!files) {\n",
              "    return {\n",
              "      response: {\n",
              "        action: 'complete',\n",
              "      }\n",
              "    };\n",
              "  }\n",
              "\n",
              "  for (const file of files) {\n",
              "    const li = document.createElement('li');\n",
              "    li.append(span(file.name, {fontWeight: 'bold'}));\n",
              "    li.append(span(\n",
              "        `(${file.type || 'n/a'}) - ${file.size} bytes, ` +\n",
              "        `last modified: ${\n",
              "            file.lastModifiedDate ? file.lastModifiedDate.toLocaleDateString() :\n",
              "                                    'n/a'} - `));\n",
              "    const percent = span('0% done');\n",
              "    li.appendChild(percent);\n",
              "\n",
              "    outputElement.appendChild(li);\n",
              "\n",
              "    const fileDataPromise = new Promise((resolve) => {\n",
              "      const reader = new FileReader();\n",
              "      reader.onload = (e) => {\n",
              "        resolve(e.target.result);\n",
              "      };\n",
              "      reader.readAsArrayBuffer(file);\n",
              "    });\n",
              "    // Wait for the data to be ready.\n",
              "    let fileData = yield {\n",
              "      promise: fileDataPromise,\n",
              "      response: {\n",
              "        action: 'continue',\n",
              "      }\n",
              "    };\n",
              "\n",
              "    // Use a chunked sending to avoid message size limits. See b/62115660.\n",
              "    let position = 0;\n",
              "    do {\n",
              "      const length = Math.min(fileData.byteLength - position, MAX_PAYLOAD_SIZE);\n",
              "      const chunk = new Uint8Array(fileData, position, length);\n",
              "      position += length;\n",
              "\n",
              "      const base64 = btoa(String.fromCharCode.apply(null, chunk));\n",
              "      yield {\n",
              "        response: {\n",
              "          action: 'append',\n",
              "          file: file.name,\n",
              "          data: base64,\n",
              "        },\n",
              "      };\n",
              "\n",
              "      let percentDone = fileData.byteLength === 0 ?\n",
              "          100 :\n",
              "          Math.round((position / fileData.byteLength) * 100);\n",
              "      percent.textContent = `${percentDone}% done`;\n",
              "\n",
              "    } while (position < fileData.byteLength);\n",
              "  }\n",
              "\n",
              "  // All done.\n",
              "  yield {\n",
              "    response: {\n",
              "      action: 'complete',\n",
              "    }\n",
              "  };\n",
              "}\n",
              "\n",
              "scope.google = scope.google || {};\n",
              "scope.google.colab = scope.google.colab || {};\n",
              "scope.google.colab._files = {\n",
              "  _uploadFiles,\n",
              "  _uploadFilesContinue,\n",
              "};\n",
              "})(self);\n",
              "</script> "
            ]
          },
          "metadata": {}
        },
        {
          "output_type": "stream",
          "name": "stdout",
          "text": [
            "Saving kaggle.json to kaggle.json\n",
            "Dataset URL: https://www.kaggle.com/datasets/kmader/mias-mammography\n",
            "License(s): other\n",
            "Downloading mias-mammography.zip to /content\n",
            " 97% 302M/312M [00:02<00:00, 152MB/s]\n",
            "100% 312M/312M [00:02<00:00, 150MB/s]\n",
            "Archive:  mias-mammography.zip\n",
            "  inflating: mias/Info.txt           \n",
            "  inflating: mias/all-mias.tar.gz    \n",
            "  inflating: mias/all-mias/Info.txt  \n",
            "  inflating: mias/all-mias/Licence.txt  \n",
            "  inflating: mias/all-mias/README    \n",
            "  inflating: mias/all-mias/mdb001.pgm  \n",
            "  inflating: mias/all-mias/mdb002.pgm  \n",
            "  inflating: mias/all-mias/mdb003.pgm  \n",
            "  inflating: mias/all-mias/mdb004.pgm  \n",
            "  inflating: mias/all-mias/mdb005.pgm  \n",
            "  inflating: mias/all-mias/mdb006.pgm  \n",
            "  inflating: mias/all-mias/mdb007.pgm  \n",
            "  inflating: mias/all-mias/mdb008.pgm  \n",
            "  inflating: mias/all-mias/mdb009.pgm  \n",
            "  inflating: mias/all-mias/mdb010.pgm  \n",
            "  inflating: mias/all-mias/mdb011.pgm  \n",
            "  inflating: mias/all-mias/mdb012.pgm  \n",
            "  inflating: mias/all-mias/mdb013.pgm  \n",
            "  inflating: mias/all-mias/mdb014.pgm  \n",
            "  inflating: mias/all-mias/mdb015.pgm  \n",
            "  inflating: mias/all-mias/mdb016.pgm  \n",
            "  inflating: mias/all-mias/mdb017.pgm  \n",
            "  inflating: mias/all-mias/mdb018.pgm  \n",
            "  inflating: mias/all-mias/mdb019.pgm  \n",
            "  inflating: mias/all-mias/mdb020.pgm  \n",
            "  inflating: mias/all-mias/mdb021.pgm  \n",
            "  inflating: mias/all-mias/mdb022.pgm  \n",
            "  inflating: mias/all-mias/mdb023.pgm  \n",
            "  inflating: mias/all-mias/mdb024.pgm  \n",
            "  inflating: mias/all-mias/mdb025.pgm  \n",
            "  inflating: mias/all-mias/mdb026.pgm  \n",
            "  inflating: mias/all-mias/mdb027.pgm  \n",
            "  inflating: mias/all-mias/mdb028.pgm  \n",
            "  inflating: mias/all-mias/mdb029.pgm  \n",
            "  inflating: mias/all-mias/mdb030.pgm  \n",
            "  inflating: mias/all-mias/mdb031.pgm  \n",
            "  inflating: mias/all-mias/mdb032.pgm  \n",
            "  inflating: mias/all-mias/mdb033.pgm  \n",
            "  inflating: mias/all-mias/mdb034.pgm  \n",
            "  inflating: mias/all-mias/mdb035.pgm  \n",
            "  inflating: mias/all-mias/mdb036.pgm  \n",
            "  inflating: mias/all-mias/mdb037.pgm  \n",
            "  inflating: mias/all-mias/mdb038.pgm  \n",
            "  inflating: mias/all-mias/mdb039.pgm  \n",
            "  inflating: mias/all-mias/mdb040.pgm  \n",
            "  inflating: mias/all-mias/mdb041.pgm  \n",
            "  inflating: mias/all-mias/mdb042.pgm  \n",
            "  inflating: mias/all-mias/mdb043.pgm  \n",
            "  inflating: mias/all-mias/mdb044.pgm  \n",
            "  inflating: mias/all-mias/mdb045.pgm  \n",
            "  inflating: mias/all-mias/mdb046.pgm  \n",
            "  inflating: mias/all-mias/mdb047.pgm  \n",
            "  inflating: mias/all-mias/mdb048.pgm  \n",
            "  inflating: mias/all-mias/mdb049.pgm  \n",
            "  inflating: mias/all-mias/mdb050.pgm  \n",
            "  inflating: mias/all-mias/mdb051.pgm  \n",
            "  inflating: mias/all-mias/mdb052.pgm  \n",
            "  inflating: mias/all-mias/mdb053.pgm  \n",
            "  inflating: mias/all-mias/mdb054.pgm  \n",
            "  inflating: mias/all-mias/mdb055.pgm  \n",
            "  inflating: mias/all-mias/mdb056.pgm  \n",
            "  inflating: mias/all-mias/mdb057.pgm  \n",
            "  inflating: mias/all-mias/mdb058.pgm  \n",
            "  inflating: mias/all-mias/mdb059.pgm  \n",
            "  inflating: mias/all-mias/mdb060.pgm  \n",
            "  inflating: mias/all-mias/mdb061.pgm  \n",
            "  inflating: mias/all-mias/mdb062.pgm  \n",
            "  inflating: mias/all-mias/mdb063.pgm  \n",
            "  inflating: mias/all-mias/mdb064.pgm  \n",
            "  inflating: mias/all-mias/mdb065.pgm  \n",
            "  inflating: mias/all-mias/mdb066.pgm  \n",
            "  inflating: mias/all-mias/mdb067.pgm  \n",
            "  inflating: mias/all-mias/mdb068.pgm  \n",
            "  inflating: mias/all-mias/mdb069.pgm  \n",
            "  inflating: mias/all-mias/mdb070.pgm  \n",
            "  inflating: mias/all-mias/mdb071.pgm  \n",
            "  inflating: mias/all-mias/mdb072.pgm  \n",
            "  inflating: mias/all-mias/mdb073.pgm  \n",
            "  inflating: mias/all-mias/mdb074.pgm  \n",
            "  inflating: mias/all-mias/mdb075.pgm  \n",
            "  inflating: mias/all-mias/mdb076.pgm  \n",
            "  inflating: mias/all-mias/mdb077.pgm  \n",
            "  inflating: mias/all-mias/mdb078.pgm  \n",
            "  inflating: mias/all-mias/mdb079.pgm  \n",
            "  inflating: mias/all-mias/mdb080.pgm  \n",
            "  inflating: mias/all-mias/mdb081.pgm  \n",
            "  inflating: mias/all-mias/mdb082.pgm  \n",
            "  inflating: mias/all-mias/mdb083.pgm  \n",
            "  inflating: mias/all-mias/mdb084.pgm  \n",
            "  inflating: mias/all-mias/mdb085.pgm  \n",
            "  inflating: mias/all-mias/mdb086.pgm  \n",
            "  inflating: mias/all-mias/mdb087.pgm  \n",
            "  inflating: mias/all-mias/mdb088.pgm  \n",
            "  inflating: mias/all-mias/mdb089.pgm  \n",
            "  inflating: mias/all-mias/mdb090.pgm  \n",
            "  inflating: mias/all-mias/mdb091.pgm  \n",
            "  inflating: mias/all-mias/mdb092.pgm  \n",
            "  inflating: mias/all-mias/mdb093.pgm  \n",
            "  inflating: mias/all-mias/mdb094.pgm  \n",
            "  inflating: mias/all-mias/mdb095.pgm  \n",
            "  inflating: mias/all-mias/mdb096.pgm  \n",
            "  inflating: mias/all-mias/mdb097.pgm  \n",
            "  inflating: mias/all-mias/mdb098.pgm  \n",
            "  inflating: mias/all-mias/mdb099.pgm  \n",
            "  inflating: mias/all-mias/mdb100.pgm  \n",
            "  inflating: mias/all-mias/mdb101.pgm  \n",
            "  inflating: mias/all-mias/mdb102.pgm  \n",
            "  inflating: mias/all-mias/mdb103.pgm  \n",
            "  inflating: mias/all-mias/mdb104.pgm  \n",
            "  inflating: mias/all-mias/mdb105.pgm  \n",
            "  inflating: mias/all-mias/mdb106.pgm  \n",
            "  inflating: mias/all-mias/mdb107.pgm  \n",
            "  inflating: mias/all-mias/mdb108.pgm  \n",
            "  inflating: mias/all-mias/mdb109.pgm  \n",
            "  inflating: mias/all-mias/mdb110.pgm  \n",
            "  inflating: mias/all-mias/mdb111.pgm  \n",
            "  inflating: mias/all-mias/mdb112.pgm  \n",
            "  inflating: mias/all-mias/mdb113.pgm  \n",
            "  inflating: mias/all-mias/mdb114.pgm  \n",
            "  inflating: mias/all-mias/mdb115.pgm  \n",
            "  inflating: mias/all-mias/mdb116.pgm  \n",
            "  inflating: mias/all-mias/mdb117.pgm  \n",
            "  inflating: mias/all-mias/mdb118.pgm  \n",
            "  inflating: mias/all-mias/mdb119.pgm  \n",
            "  inflating: mias/all-mias/mdb120.pgm  \n",
            "  inflating: mias/all-mias/mdb121.pgm  \n",
            "  inflating: mias/all-mias/mdb122.pgm  \n",
            "  inflating: mias/all-mias/mdb123.pgm  \n",
            "  inflating: mias/all-mias/mdb124.pgm  \n",
            "  inflating: mias/all-mias/mdb125.pgm  \n",
            "  inflating: mias/all-mias/mdb126.pgm  \n",
            "  inflating: mias/all-mias/mdb127.pgm  \n",
            "  inflating: mias/all-mias/mdb128.pgm  \n",
            "  inflating: mias/all-mias/mdb129.pgm  \n",
            "  inflating: mias/all-mias/mdb130.pgm  \n",
            "  inflating: mias/all-mias/mdb131.pgm  \n",
            "  inflating: mias/all-mias/mdb132.pgm  \n",
            "  inflating: mias/all-mias/mdb133.pgm  \n",
            "  inflating: mias/all-mias/mdb134.pgm  \n",
            "  inflating: mias/all-mias/mdb135.pgm  \n",
            "  inflating: mias/all-mias/mdb136.pgm  \n",
            "  inflating: mias/all-mias/mdb137.pgm  \n",
            "  inflating: mias/all-mias/mdb138.pgm  \n",
            "  inflating: mias/all-mias/mdb139.pgm  \n",
            "  inflating: mias/all-mias/mdb140.pgm  \n",
            "  inflating: mias/all-mias/mdb141.pgm  \n",
            "  inflating: mias/all-mias/mdb142.pgm  \n",
            "  inflating: mias/all-mias/mdb143.pgm  \n",
            "  inflating: mias/all-mias/mdb144.pgm  \n",
            "  inflating: mias/all-mias/mdb145.pgm  \n",
            "  inflating: mias/all-mias/mdb146.pgm  \n",
            "  inflating: mias/all-mias/mdb147.pgm  \n",
            "  inflating: mias/all-mias/mdb148.pgm  \n",
            "  inflating: mias/all-mias/mdb149.pgm  \n",
            "  inflating: mias/all-mias/mdb150.pgm  \n",
            "  inflating: mias/all-mias/mdb151.pgm  \n",
            "  inflating: mias/all-mias/mdb152.pgm  \n",
            "  inflating: mias/all-mias/mdb153.pgm  \n",
            "  inflating: mias/all-mias/mdb154.pgm  \n",
            "  inflating: mias/all-mias/mdb155.pgm  \n",
            "  inflating: mias/all-mias/mdb156.pgm  \n",
            "  inflating: mias/all-mias/mdb157.pgm  \n",
            "  inflating: mias/all-mias/mdb158.pgm  \n",
            "  inflating: mias/all-mias/mdb159.pgm  \n",
            "  inflating: mias/all-mias/mdb160.pgm  \n",
            "  inflating: mias/all-mias/mdb161.pgm  \n",
            "  inflating: mias/all-mias/mdb162.pgm  \n",
            "  inflating: mias/all-mias/mdb163.pgm  \n",
            "  inflating: mias/all-mias/mdb164.pgm  \n",
            "  inflating: mias/all-mias/mdb165.pgm  \n",
            "  inflating: mias/all-mias/mdb166.pgm  \n",
            "  inflating: mias/all-mias/mdb167.pgm  \n",
            "  inflating: mias/all-mias/mdb168.pgm  \n",
            "  inflating: mias/all-mias/mdb169.pgm  \n",
            "  inflating: mias/all-mias/mdb170.pgm  \n",
            "  inflating: mias/all-mias/mdb171.pgm  \n",
            "  inflating: mias/all-mias/mdb172.pgm  \n",
            "  inflating: mias/all-mias/mdb173.pgm  \n",
            "  inflating: mias/all-mias/mdb174.pgm  \n",
            "  inflating: mias/all-mias/mdb175.pgm  \n",
            "  inflating: mias/all-mias/mdb176.pgm  \n",
            "  inflating: mias/all-mias/mdb177.pgm  \n",
            "  inflating: mias/all-mias/mdb178.pgm  \n",
            "  inflating: mias/all-mias/mdb179.pgm  \n",
            "  inflating: mias/all-mias/mdb180.pgm  \n",
            "  inflating: mias/all-mias/mdb181.pgm  \n",
            "  inflating: mias/all-mias/mdb182.pgm  \n",
            "  inflating: mias/all-mias/mdb183.pgm  \n",
            "  inflating: mias/all-mias/mdb184.pgm  \n",
            "  inflating: mias/all-mias/mdb185.pgm  \n",
            "  inflating: mias/all-mias/mdb186.pgm  \n",
            "  inflating: mias/all-mias/mdb187.pgm  \n",
            "  inflating: mias/all-mias/mdb188.pgm  \n",
            "  inflating: mias/all-mias/mdb189.pgm  \n",
            "  inflating: mias/all-mias/mdb190.pgm  \n",
            "  inflating: mias/all-mias/mdb191.pgm  \n",
            "  inflating: mias/all-mias/mdb192.pgm  \n",
            "  inflating: mias/all-mias/mdb193.pgm  \n",
            "  inflating: mias/all-mias/mdb194.pgm  \n",
            "  inflating: mias/all-mias/mdb195.pgm  \n",
            "  inflating: mias/all-mias/mdb196.pgm  \n",
            "  inflating: mias/all-mias/mdb197.pgm  \n",
            "  inflating: mias/all-mias/mdb198.pgm  \n",
            "  inflating: mias/all-mias/mdb199.pgm  \n",
            "  inflating: mias/all-mias/mdb200.pgm  \n",
            "  inflating: mias/all-mias/mdb201.pgm  \n",
            "  inflating: mias/all-mias/mdb202.pgm  \n",
            "  inflating: mias/all-mias/mdb203.pgm  \n",
            "  inflating: mias/all-mias/mdb204.pgm  \n",
            "  inflating: mias/all-mias/mdb205.pgm  \n",
            "  inflating: mias/all-mias/mdb206.pgm  \n",
            "  inflating: mias/all-mias/mdb207.pgm  \n",
            "  inflating: mias/all-mias/mdb208.pgm  \n",
            "  inflating: mias/all-mias/mdb209.pgm  \n",
            "  inflating: mias/all-mias/mdb210.pgm  \n",
            "  inflating: mias/all-mias/mdb211.pgm  \n",
            "  inflating: mias/all-mias/mdb212.pgm  \n",
            "  inflating: mias/all-mias/mdb213.pgm  \n",
            "  inflating: mias/all-mias/mdb214.pgm  \n",
            "  inflating: mias/all-mias/mdb215.pgm  \n",
            "  inflating: mias/all-mias/mdb216.pgm  \n",
            "  inflating: mias/all-mias/mdb217.pgm  \n",
            "  inflating: mias/all-mias/mdb218.pgm  \n",
            "  inflating: mias/all-mias/mdb219.pgm  \n",
            "  inflating: mias/all-mias/mdb220.pgm  \n",
            "  inflating: mias/all-mias/mdb221.pgm  \n",
            "  inflating: mias/all-mias/mdb222.pgm  \n",
            "  inflating: mias/all-mias/mdb223.pgm  \n",
            "  inflating: mias/all-mias/mdb224.pgm  \n",
            "  inflating: mias/all-mias/mdb225.pgm  \n",
            "  inflating: mias/all-mias/mdb226.pgm  \n",
            "  inflating: mias/all-mias/mdb227.pgm  \n",
            "  inflating: mias/all-mias/mdb228.pgm  \n",
            "  inflating: mias/all-mias/mdb229.pgm  \n",
            "  inflating: mias/all-mias/mdb230.pgm  \n",
            "  inflating: mias/all-mias/mdb231.pgm  \n",
            "  inflating: mias/all-mias/mdb232.pgm  \n",
            "  inflating: mias/all-mias/mdb233.pgm  \n",
            "  inflating: mias/all-mias/mdb234.pgm  \n",
            "  inflating: mias/all-mias/mdb235.pgm  \n",
            "  inflating: mias/all-mias/mdb236.pgm  \n",
            "  inflating: mias/all-mias/mdb237.pgm  \n",
            "  inflating: mias/all-mias/mdb238.pgm  \n",
            "  inflating: mias/all-mias/mdb239.pgm  \n",
            "  inflating: mias/all-mias/mdb240.pgm  \n",
            "  inflating: mias/all-mias/mdb241.pgm  \n",
            "  inflating: mias/all-mias/mdb242.pgm  \n",
            "  inflating: mias/all-mias/mdb243.pgm  \n",
            "  inflating: mias/all-mias/mdb244.pgm  \n",
            "  inflating: mias/all-mias/mdb245.pgm  \n",
            "  inflating: mias/all-mias/mdb246.pgm  \n",
            "  inflating: mias/all-mias/mdb247.pgm  \n",
            "  inflating: mias/all-mias/mdb248.pgm  \n",
            "  inflating: mias/all-mias/mdb249.pgm  \n",
            "  inflating: mias/all-mias/mdb250.pgm  \n",
            "  inflating: mias/all-mias/mdb251.pgm  \n",
            "  inflating: mias/all-mias/mdb252.pgm  \n",
            "  inflating: mias/all-mias/mdb253.pgm  \n",
            "  inflating: mias/all-mias/mdb254.pgm  \n",
            "  inflating: mias/all-mias/mdb255.pgm  \n",
            "  inflating: mias/all-mias/mdb256.pgm  \n",
            "  inflating: mias/all-mias/mdb257.pgm  \n",
            "  inflating: mias/all-mias/mdb258.pgm  \n",
            "  inflating: mias/all-mias/mdb259.pgm  \n",
            "  inflating: mias/all-mias/mdb260.pgm  \n",
            "  inflating: mias/all-mias/mdb261.pgm  \n",
            "  inflating: mias/all-mias/mdb262.pgm  \n",
            "  inflating: mias/all-mias/mdb263.pgm  \n",
            "  inflating: mias/all-mias/mdb264.pgm  \n",
            "  inflating: mias/all-mias/mdb265.pgm  \n",
            "  inflating: mias/all-mias/mdb266.pgm  \n",
            "  inflating: mias/all-mias/mdb267.pgm  \n",
            "  inflating: mias/all-mias/mdb268.pgm  \n",
            "  inflating: mias/all-mias/mdb269.pgm  \n",
            "  inflating: mias/all-mias/mdb270.pgm  \n",
            "  inflating: mias/all-mias/mdb271.pgm  \n",
            "  inflating: mias/all-mias/mdb272.pgm  \n",
            "  inflating: mias/all-mias/mdb273.pgm  \n",
            "  inflating: mias/all-mias/mdb274.pgm  \n",
            "  inflating: mias/all-mias/mdb275.pgm  \n",
            "  inflating: mias/all-mias/mdb276.pgm  \n",
            "  inflating: mias/all-mias/mdb277.pgm  \n",
            "  inflating: mias/all-mias/mdb278.pgm  \n",
            "  inflating: mias/all-mias/mdb279.pgm  \n",
            "  inflating: mias/all-mias/mdb280.pgm  \n",
            "  inflating: mias/all-mias/mdb281.pgm  \n",
            "  inflating: mias/all-mias/mdb282.pgm  \n",
            "  inflating: mias/all-mias/mdb283.pgm  \n",
            "  inflating: mias/all-mias/mdb284.pgm  \n",
            "  inflating: mias/all-mias/mdb285.pgm  \n",
            "  inflating: mias/all-mias/mdb286.pgm  \n",
            "  inflating: mias/all-mias/mdb287.pgm  \n",
            "  inflating: mias/all-mias/mdb288.pgm  \n",
            "  inflating: mias/all-mias/mdb289.pgm  \n",
            "  inflating: mias/all-mias/mdb290.pgm  \n",
            "  inflating: mias/all-mias/mdb291.pgm  \n",
            "  inflating: mias/all-mias/mdb292.pgm  \n",
            "  inflating: mias/all-mias/mdb293.pgm  \n",
            "  inflating: mias/all-mias/mdb294.pgm  \n",
            "  inflating: mias/all-mias/mdb295.pgm  \n",
            "  inflating: mias/all-mias/mdb296.pgm  \n",
            "  inflating: mias/all-mias/mdb297.pgm  \n",
            "  inflating: mias/all-mias/mdb298.pgm  \n",
            "  inflating: mias/all-mias/mdb299.pgm  \n",
            "  inflating: mias/all-mias/mdb300.pgm  \n",
            "  inflating: mias/all-mias/mdb301.pgm  \n",
            "  inflating: mias/all-mias/mdb302.pgm  \n",
            "  inflating: mias/all-mias/mdb303.pgm  \n",
            "  inflating: mias/all-mias/mdb304.pgm  \n",
            "  inflating: mias/all-mias/mdb305.pgm  \n",
            "  inflating: mias/all-mias/mdb306.pgm  \n",
            "  inflating: mias/all-mias/mdb307.pgm  \n",
            "  inflating: mias/all-mias/mdb308.pgm  \n",
            "  inflating: mias/all-mias/mdb309.pgm  \n",
            "  inflating: mias/all-mias/mdb310.pgm  \n",
            "  inflating: mias/all-mias/mdb311.pgm  \n",
            "  inflating: mias/all-mias/mdb312.pgm  \n",
            "  inflating: mias/all-mias/mdb313.pgm  \n",
            "  inflating: mias/all-mias/mdb314.pgm  \n",
            "  inflating: mias/all-mias/mdb315.pgm  \n",
            "  inflating: mias/all-mias/mdb316.pgm  \n",
            "  inflating: mias/all-mias/mdb317.pgm  \n",
            "  inflating: mias/all-mias/mdb318.pgm  \n",
            "  inflating: mias/all-mias/mdb319.pgm  \n",
            "  inflating: mias/all-mias/mdb320.pgm  \n",
            "  inflating: mias/all-mias/mdb321.pgm  \n",
            "  inflating: mias/all-mias/mdb322.pgm  \n",
            "  inflating: mias/all_mias_scans.h5  \n"
          ]
        }
      ],
      "source": [
        "from google.colab import files\n",
        "files.upload()  # Sube el archivo kaggle.json\n",
        "\n",
        "!mkdir -p ~/.kaggle\n",
        "!cp kaggle.json ~/.kaggle/\n",
        "!chmod 600 ~/.kaggle/kaggle.json\n",
        "\n",
        "!kaggle datasets download -d kmader/mias-mammography\n",
        "!unzip mias-mammography.zip -d mias"
      ]
    },
    {
      "cell_type": "code",
      "source": [
        "import tensorflow as tf\n",
        "import numpy as np\n",
        "import cv2\n",
        "import matplotlib.pyplot as plt\n",
        "import os\n",
        "from sklearn.model_selection import train_test_split\n",
        "from tensorflow.keras.layers import Input, Conv2D\n",
        "from tensorflow.keras.models import Model\n",
        "from tensorflow.keras.optimizers import Adam\n",
        "from tensorflow.keras.preprocessing.image import ImageDataGenerator\n",
        "\n",
        "# Directorio de imágenes\n",
        "data_dir = \"mias/all-mias/\"\n",
        "\n",
        "# Cargar y preprocesar imágenes\n",
        "images = []\n",
        "for file_name in os.listdir(data_dir):\n",
        "    if file_name.endswith('.pgm'):\n",
        "        img_path = os.path.join(data_dir, file_name)\n",
        "        img = cv2.imread(img_path, cv2.IMREAD_GRAYSCALE)\n",
        "        images.append(img)\n",
        "\n",
        "# Normalización\n",
        "images = np.array(images)\n",
        "images = images.astype('float32') / 255.0\n",
        "\n",
        "# Convertir imágenes en escala de grises a imágenes RGB\n",
        "images_rgb = [np.stack((img,)*3, axis=-1) for img in images]\n"
      ],
      "metadata": {
        "id": "LW5WsBfYKEHC"
      },
      "execution_count": 2,
      "outputs": []
    },
    {
      "cell_type": "code",
      "source": [
        "target_shape_hr = (128, 128)\n",
        "target_shape_lr = (32, 32)\n",
        "train_images_resized = [cv2.resize(img, target_shape_hr) for img in images_rgb]"
      ],
      "metadata": {
        "id": "peFaq58zO3Iw"
      },
      "execution_count": 61,
      "outputs": []
    },
    {
      "cell_type": "code",
      "source": [
        "# Dividir en conjuntos de entrenamiento, validación y prueba\n",
        "train_images, test_images = train_test_split(train_images_resized, test_size=0.1, random_state=42)\n",
        "train_images, val_images = train_test_split(train_images, test_size=0.1, random_state=42)\n"
      ],
      "metadata": {
        "id": "BNUpj7xAO5TO"
      },
      "execution_count": 62,
      "outputs": []
    },
    {
      "cell_type": "code",
      "source": [
        "# Redimensionar las imágenes de baja resolución\n",
        "train_images_lr = [cv2.resize(img, target_shape_lr) for img in train_images]\n",
        "val_images_lr = [cv2.resize(img, target_shape_lr) for img in val_images]"
      ],
      "metadata": {
        "id": "psz7cQIFO-z8"
      },
      "execution_count": 63,
      "outputs": []
    },
    {
      "cell_type": "code",
      "source": [
        "# Convertir a formato de tensor y asegurar que las formas son correctas\n",
        "train_images_lr = np.array(train_images_lr)\n",
        "val_images_lr = np.array(val_images_lr)\n",
        "train_images = np.array(train_images)\n",
        "val_images = np.array(val_images)\n",
        "\n",
        "print(f\"Forma de train_images_lr: {train_images_lr.shape}\")\n",
        "print(f\"Forma de train_images: {train_images.shape}\")"
      ],
      "metadata": {
        "colab": {
          "base_uri": "https://localhost:8080/"
        },
        "id": "6YbG4MxGPAs1",
        "outputId": "10dab34b-1a49-4e38-ad5c-bb7c7e4ff4fd"
      },
      "execution_count": 64,
      "outputs": [
        {
          "output_type": "stream",
          "name": "stdout",
          "text": [
            "Forma de train_images_lr: (260, 32, 32, 3)\n",
            "Forma de train_images: (260, 128, 128, 3)\n"
          ]
        }
      ]
    },
    {
      "cell_type": "code",
      "source": [
        "# Crear generadores de datos con data augmentation\n",
        "train_datagen = ImageDataGenerator(\n",
        "    rescale=1./255,\n",
        "    rotation_range=20,\n",
        "    width_shift_range=0.2,\n",
        "    height_shift_range=0.2,\n",
        "    shear_range=0.2,\n",
        "    zoom_range=0.2,\n",
        "    horizontal_flip=True,\n",
        "    fill_mode='nearest'\n",
        ")\n",
        "val_datagen = ImageDataGenerator(rescale=1./255)"
      ],
      "metadata": {
        "id": "jWiiuADXPFED"
      },
      "execution_count": 65,
      "outputs": []
    },
    {
      "cell_type": "code",
      "source": [
        "train_generator = train_datagen.flow(train_images_lr, train_images, batch_size=16)\n",
        "val_generator = val_datagen.flow(val_images_lr, val_images, batch_size=16)"
      ],
      "metadata": {
        "id": "u_BXMze4PKDV"
      },
      "execution_count": 66,
      "outputs": []
    },
    {
      "cell_type": "code",
      "source": [
        "from tensorflow.keras.layers import Input, Conv2D, UpSampling2D, BatchNormalization, Activation"
      ],
      "metadata": {
        "id": "4n4ngWVBPfku"
      },
      "execution_count": 34,
      "outputs": []
    },
    {
      "cell_type": "code",
      "source": [
        "# Crear un modelo más complejo pero no demasiado pesado\n",
        "input_layer = Input(shape=(target_shape_lr[0], target_shape_lr[1], 3))\n",
        "x = UpSampling2D(size=(4, 4))(input_layer)\n",
        "x = Conv2D(64, (3, 3), padding='same')(x)\n",
        "x = BatchNormalization()(x)\n",
        "x = Activation('relu')(x)\n",
        "x = Conv2D(64, (3, 3), padding='same')(x)\n",
        "x = BatchNormalization()(x)\n",
        "x = Activation('relu')(x)\n",
        "x = Conv2D(32, (3, 3), padding='same')(x)\n",
        "x = BatchNormalization()(x)\n",
        "x = Activation('relu')(x)\n",
        "output_layer = Conv2D(3, (3, 3), padding='same')(x)\n",
        "\n",
        "model = Model(inputs=input_layer, outputs=output_layer)"
      ],
      "metadata": {
        "id": "StqS-evcPOEd"
      },
      "execution_count": 67,
      "outputs": []
    },
    {
      "cell_type": "code",
      "source": [
        "# Compilar el modelo\n",
        "model.compile(optimizer=Adam(learning_rate=1e-4), loss='mean_squared_error')"
      ],
      "metadata": {
        "id": "vDFN1LyUPVzk"
      },
      "execution_count": 68,
      "outputs": []
    },
    {
      "cell_type": "code",
      "source": [
        "# Entrenar el modelo usando generadores\n",
        "history = model.fit(train_generator,\n",
        "                    validation_data=val_generator,\n",
        "                    epochs=20,  # Incrementar el número de épocas para mejorar el entrenamiento\n",
        "                    steps_per_epoch=len(train_images_lr)//16,\n",
        "                    validation_steps=len(val_images_lr)//16)"
      ],
      "metadata": {
        "colab": {
          "base_uri": "https://localhost:8080/"
        },
        "id": "qny-6CE_PZt8",
        "outputId": "be8277af-8d9e-4593-fb8a-20c9e3984ddf"
      },
      "execution_count": 69,
      "outputs": [
        {
          "output_type": "stream",
          "name": "stdout",
          "text": [
            "Epoch 1/20\n",
            "16/16 [==============================] - 3s 68ms/step - loss: 0.4254 - val_loss: 0.1251\n",
            "Epoch 2/20\n",
            "16/16 [==============================] - 1s 46ms/step - loss: 0.1775 - val_loss: 0.1271\n",
            "Epoch 3/20\n",
            "16/16 [==============================] - 1s 42ms/step - loss: 0.1183 - val_loss: 0.1274\n",
            "Epoch 4/20\n",
            "16/16 [==============================] - 1s 43ms/step - loss: 0.0967 - val_loss: 0.1257\n",
            "Epoch 5/20\n",
            "16/16 [==============================] - 1s 42ms/step - loss: 0.0884 - val_loss: 0.1243\n",
            "Epoch 6/20\n",
            "16/16 [==============================] - 1s 41ms/step - loss: 0.0821 - val_loss: 0.1267\n",
            "Epoch 7/20\n",
            "16/16 [==============================] - 1s 42ms/step - loss: 0.0814 - val_loss: 0.1390\n",
            "Epoch 8/20\n",
            "16/16 [==============================] - 1s 44ms/step - loss: 0.0806 - val_loss: 0.1258\n",
            "Epoch 9/20\n",
            "16/16 [==============================] - 1s 42ms/step - loss: 0.0772 - val_loss: 0.1274\n",
            "Epoch 10/20\n",
            "16/16 [==============================] - 1s 42ms/step - loss: 0.0748 - val_loss: 0.1320\n",
            "Epoch 11/20\n",
            "16/16 [==============================] - 1s 44ms/step - loss: 0.0748 - val_loss: 0.1230\n",
            "Epoch 12/20\n",
            "16/16 [==============================] - 1s 43ms/step - loss: 0.0745 - val_loss: 0.1302\n",
            "Epoch 13/20\n",
            "16/16 [==============================] - 1s 45ms/step - loss: 0.0748 - val_loss: 0.1457\n",
            "Epoch 14/20\n",
            "16/16 [==============================] - 1s 48ms/step - loss: 0.0725 - val_loss: 0.1287\n",
            "Epoch 15/20\n",
            "16/16 [==============================] - 1s 47ms/step - loss: 0.0740 - val_loss: 0.1423\n",
            "Epoch 16/20\n",
            "16/16 [==============================] - 1s 43ms/step - loss: 0.0749 - val_loss: 0.1335\n",
            "Epoch 17/20\n",
            "16/16 [==============================] - 1s 43ms/step - loss: 0.0717 - val_loss: 0.1429\n",
            "Epoch 18/20\n",
            "16/16 [==============================] - 1s 43ms/step - loss: 0.0706 - val_loss: 0.1241\n",
            "Epoch 19/20\n",
            "16/16 [==============================] - 1s 44ms/step - loss: 0.0712 - val_loss: 0.1421\n",
            "Epoch 20/20\n",
            "16/16 [==============================] - 1s 42ms/step - loss: 0.0727 - val_loss: 0.1295\n"
          ]
        }
      ]
    },
    {
      "cell_type": "code",
      "source": [
        "# Guardar el modelo ajustado\n",
        "model.save('edsr_fine_tuned2.h5')"
      ],
      "metadata": {
        "id": "QOcdftuuSj2E"
      },
      "execution_count": 70,
      "outputs": []
    },
    {
      "cell_type": "code",
      "source": [
        "print(f\"Forma de train_images_lr: {train_images_lr.shape}\")\n",
        "print(f\"Forma de train_images: {train_images.shape}\")"
      ],
      "metadata": {
        "colab": {
          "base_uri": "https://localhost:8080/"
        },
        "id": "cvnRER_xUuTC",
        "outputId": "44bc242d-76f8-4558-9346-f8dbdca07b0e"
      },
      "execution_count": 72,
      "outputs": [
        {
          "output_type": "stream",
          "name": "stdout",
          "text": [
            "Forma de train_images_lr: (260, 32, 32, 3)\n",
            "Forma de train_images: (260, 128, 128, 3)\n"
          ]
        }
      ]
    },
    {
      "cell_type": "code",
      "source": [
        "# Evaluar el modelo en el conjunto de prueba\n",
        "test_loss = model.evaluate(test_images_lr, test_images)\n",
        "print(f'Test Loss: {test_loss}')"
      ],
      "metadata": {
        "colab": {
          "base_uri": "https://localhost:8080/",
          "height": 391
        },
        "id": "T5xz95YbSpmS",
        "outputId": "5ae8e1c0-03d5-4044-c848-ca511ce9f9c3"
      },
      "execution_count": 71,
      "outputs": [
        {
          "output_type": "error",
          "ename": "ValueError",
          "evalue": "Data cardinality is ambiguous:\n  x sizes: 33\n  y sizes: 128, 128, 128, 128, 128, 128, 128, 128, 128, 128, 128, 128, 128, 128, 128, 128, 128, 128, 128, 128, 128, 128, 128, 128, 128, 128, 128, 128, 128, 128, 128, 128, 128\nMake sure all arrays contain the same number of samples.",
          "traceback": [
            "\u001b[0;31m---------------------------------------------------------------------------\u001b[0m",
            "\u001b[0;31mValueError\u001b[0m                                Traceback (most recent call last)",
            "\u001b[0;32m<ipython-input-71-a150083b8baf>\u001b[0m in \u001b[0;36m<cell line: 2>\u001b[0;34m()\u001b[0m\n\u001b[1;32m      1\u001b[0m \u001b[0;31m# Evaluar el modelo en el conjunto de prueba\u001b[0m\u001b[0;34m\u001b[0m\u001b[0;34m\u001b[0m\u001b[0m\n\u001b[0;32m----> 2\u001b[0;31m \u001b[0mtest_loss\u001b[0m \u001b[0;34m=\u001b[0m \u001b[0mmodel\u001b[0m\u001b[0;34m.\u001b[0m\u001b[0mevaluate\u001b[0m\u001b[0;34m(\u001b[0m\u001b[0mtest_images_lr\u001b[0m\u001b[0;34m,\u001b[0m \u001b[0mtest_images\u001b[0m\u001b[0;34m)\u001b[0m\u001b[0;34m\u001b[0m\u001b[0;34m\u001b[0m\u001b[0m\n\u001b[0m\u001b[1;32m      3\u001b[0m \u001b[0mprint\u001b[0m\u001b[0;34m(\u001b[0m\u001b[0;34mf'Test Loss: {test_loss}'\u001b[0m\u001b[0;34m)\u001b[0m\u001b[0;34m\u001b[0m\u001b[0;34m\u001b[0m\u001b[0m\n",
            "\u001b[0;32m/usr/local/lib/python3.10/dist-packages/keras/src/utils/traceback_utils.py\u001b[0m in \u001b[0;36merror_handler\u001b[0;34m(*args, **kwargs)\u001b[0m\n\u001b[1;32m     68\u001b[0m             \u001b[0;31m# To get the full stack trace, call:\u001b[0m\u001b[0;34m\u001b[0m\u001b[0;34m\u001b[0m\u001b[0m\n\u001b[1;32m     69\u001b[0m             \u001b[0;31m# `tf.debugging.disable_traceback_filtering()`\u001b[0m\u001b[0;34m\u001b[0m\u001b[0;34m\u001b[0m\u001b[0m\n\u001b[0;32m---> 70\u001b[0;31m             \u001b[0;32mraise\u001b[0m \u001b[0me\u001b[0m\u001b[0;34m.\u001b[0m\u001b[0mwith_traceback\u001b[0m\u001b[0;34m(\u001b[0m\u001b[0mfiltered_tb\u001b[0m\u001b[0;34m)\u001b[0m \u001b[0;32mfrom\u001b[0m \u001b[0;32mNone\u001b[0m\u001b[0;34m\u001b[0m\u001b[0;34m\u001b[0m\u001b[0m\n\u001b[0m\u001b[1;32m     71\u001b[0m         \u001b[0;32mfinally\u001b[0m\u001b[0;34m:\u001b[0m\u001b[0;34m\u001b[0m\u001b[0;34m\u001b[0m\u001b[0m\n\u001b[1;32m     72\u001b[0m             \u001b[0;32mdel\u001b[0m \u001b[0mfiltered_tb\u001b[0m\u001b[0;34m\u001b[0m\u001b[0;34m\u001b[0m\u001b[0m\n",
            "\u001b[0;32m/usr/local/lib/python3.10/dist-packages/keras/src/engine/data_adapter.py\u001b[0m in \u001b[0;36m_check_data_cardinality\u001b[0;34m(data)\u001b[0m\n\u001b[1;32m   1958\u001b[0m             )\n\u001b[1;32m   1959\u001b[0m         \u001b[0mmsg\u001b[0m \u001b[0;34m+=\u001b[0m \u001b[0;34m\"Make sure all arrays contain the same number of samples.\"\u001b[0m\u001b[0;34m\u001b[0m\u001b[0;34m\u001b[0m\u001b[0m\n\u001b[0;32m-> 1960\u001b[0;31m         \u001b[0;32mraise\u001b[0m \u001b[0mValueError\u001b[0m\u001b[0;34m(\u001b[0m\u001b[0mmsg\u001b[0m\u001b[0;34m)\u001b[0m\u001b[0;34m\u001b[0m\u001b[0;34m\u001b[0m\u001b[0m\n\u001b[0m\u001b[1;32m   1961\u001b[0m \u001b[0;34m\u001b[0m\u001b[0m\n\u001b[1;32m   1962\u001b[0m \u001b[0;34m\u001b[0m\u001b[0m\n",
            "\u001b[0;31mValueError\u001b[0m: Data cardinality is ambiguous:\n  x sizes: 33\n  y sizes: 128, 128, 128, 128, 128, 128, 128, 128, 128, 128, 128, 128, 128, 128, 128, 128, 128, 128, 128, 128, 128, 128, 128, 128, 128, 128, 128, 128, 128, 128, 128, 128, 128\nMake sure all arrays contain the same number of samples."
          ]
        }
      ]
    },
    {
      "cell_type": "code",
      "source": [
        "# Realizar predicciones en el conjunto de prueba\n",
        "predicted_images = model.predict(test_images_lr)"
      ],
      "metadata": {
        "colab": {
          "base_uri": "https://localhost:8080/",
          "height": 564
        },
        "id": "n6wUeaUoS00R",
        "outputId": "7f132d65-0c2e-47af-f6bc-eb7baa33b122"
      },
      "execution_count": 58,
      "outputs": [
        {
          "output_type": "error",
          "ename": "ValueError",
          "evalue": "in user code:\n\n    File \"/usr/local/lib/python3.10/dist-packages/keras/src/engine/training.py\", line 2440, in predict_function  *\n        return step_function(self, iterator)\n    File \"/usr/local/lib/python3.10/dist-packages/keras/src/engine/training.py\", line 2425, in step_function  **\n        outputs = model.distribute_strategy.run(run_step, args=(data,))\n    File \"/usr/local/lib/python3.10/dist-packages/keras/src/engine/training.py\", line 2413, in run_step  **\n        outputs = model.predict_step(data)\n    File \"/usr/local/lib/python3.10/dist-packages/keras/src/engine/training.py\", line 2381, in predict_step\n        return self(x, training=False)\n    File \"/usr/local/lib/python3.10/dist-packages/keras/src/utils/traceback_utils.py\", line 70, in error_handler\n        raise e.with_traceback(filtered_tb) from None\n    File \"/usr/local/lib/python3.10/dist-packages/keras/src/engine/input_spec.py\", line 298, in assert_input_compatibility\n        raise ValueError(\n\n    ValueError: Input 0 of layer \"model_6\" is incompatible with the layer: expected shape=(None, 32, 32, 3), found shape=(None, 16, 16, 3)\n",
          "traceback": [
            "\u001b[0;31m---------------------------------------------------------------------------\u001b[0m",
            "\u001b[0;31mValueError\u001b[0m                                Traceback (most recent call last)",
            "\u001b[0;32m<ipython-input-58-cfe638fb2425>\u001b[0m in \u001b[0;36m<cell line: 2>\u001b[0;34m()\u001b[0m\n\u001b[1;32m      1\u001b[0m \u001b[0;31m# Realizar predicciones en el conjunto de prueba\u001b[0m\u001b[0;34m\u001b[0m\u001b[0;34m\u001b[0m\u001b[0m\n\u001b[0;32m----> 2\u001b[0;31m \u001b[0mpredicted_images\u001b[0m \u001b[0;34m=\u001b[0m \u001b[0mmodel\u001b[0m\u001b[0;34m.\u001b[0m\u001b[0mpredict\u001b[0m\u001b[0;34m(\u001b[0m\u001b[0mtest_images_lr\u001b[0m\u001b[0;34m)\u001b[0m\u001b[0;34m\u001b[0m\u001b[0;34m\u001b[0m\u001b[0m\n\u001b[0m",
            "\u001b[0;32m/usr/local/lib/python3.10/dist-packages/keras/src/utils/traceback_utils.py\u001b[0m in \u001b[0;36merror_handler\u001b[0;34m(*args, **kwargs)\u001b[0m\n\u001b[1;32m     68\u001b[0m             \u001b[0;31m# To get the full stack trace, call:\u001b[0m\u001b[0;34m\u001b[0m\u001b[0;34m\u001b[0m\u001b[0m\n\u001b[1;32m     69\u001b[0m             \u001b[0;31m# `tf.debugging.disable_traceback_filtering()`\u001b[0m\u001b[0;34m\u001b[0m\u001b[0;34m\u001b[0m\u001b[0m\n\u001b[0;32m---> 70\u001b[0;31m             \u001b[0;32mraise\u001b[0m \u001b[0me\u001b[0m\u001b[0;34m.\u001b[0m\u001b[0mwith_traceback\u001b[0m\u001b[0;34m(\u001b[0m\u001b[0mfiltered_tb\u001b[0m\u001b[0;34m)\u001b[0m \u001b[0;32mfrom\u001b[0m \u001b[0;32mNone\u001b[0m\u001b[0;34m\u001b[0m\u001b[0;34m\u001b[0m\u001b[0m\n\u001b[0m\u001b[1;32m     71\u001b[0m         \u001b[0;32mfinally\u001b[0m\u001b[0;34m:\u001b[0m\u001b[0;34m\u001b[0m\u001b[0;34m\u001b[0m\u001b[0m\n\u001b[1;32m     72\u001b[0m             \u001b[0;32mdel\u001b[0m \u001b[0mfiltered_tb\u001b[0m\u001b[0;34m\u001b[0m\u001b[0;34m\u001b[0m\u001b[0m\n",
            "\u001b[0;32m/usr/local/lib/python3.10/dist-packages/keras/src/engine/training.py\u001b[0m in \u001b[0;36mtf__predict_function\u001b[0;34m(iterator)\u001b[0m\n\u001b[1;32m     13\u001b[0m                 \u001b[0;32mtry\u001b[0m\u001b[0;34m:\u001b[0m\u001b[0;34m\u001b[0m\u001b[0;34m\u001b[0m\u001b[0m\n\u001b[1;32m     14\u001b[0m                     \u001b[0mdo_return\u001b[0m \u001b[0;34m=\u001b[0m \u001b[0;32mTrue\u001b[0m\u001b[0;34m\u001b[0m\u001b[0;34m\u001b[0m\u001b[0m\n\u001b[0;32m---> 15\u001b[0;31m                     \u001b[0mretval_\u001b[0m \u001b[0;34m=\u001b[0m \u001b[0mag__\u001b[0m\u001b[0;34m.\u001b[0m\u001b[0mconverted_call\u001b[0m\u001b[0;34m(\u001b[0m\u001b[0mag__\u001b[0m\u001b[0;34m.\u001b[0m\u001b[0mld\u001b[0m\u001b[0;34m(\u001b[0m\u001b[0mstep_function\u001b[0m\u001b[0;34m)\u001b[0m\u001b[0;34m,\u001b[0m \u001b[0;34m(\u001b[0m\u001b[0mag__\u001b[0m\u001b[0;34m.\u001b[0m\u001b[0mld\u001b[0m\u001b[0;34m(\u001b[0m\u001b[0mself\u001b[0m\u001b[0;34m)\u001b[0m\u001b[0;34m,\u001b[0m \u001b[0mag__\u001b[0m\u001b[0;34m.\u001b[0m\u001b[0mld\u001b[0m\u001b[0;34m(\u001b[0m\u001b[0miterator\u001b[0m\u001b[0;34m)\u001b[0m\u001b[0;34m)\u001b[0m\u001b[0;34m,\u001b[0m \u001b[0;32mNone\u001b[0m\u001b[0;34m,\u001b[0m \u001b[0mfscope\u001b[0m\u001b[0;34m)\u001b[0m\u001b[0;34m\u001b[0m\u001b[0;34m\u001b[0m\u001b[0m\n\u001b[0m\u001b[1;32m     16\u001b[0m                 \u001b[0;32mexcept\u001b[0m\u001b[0;34m:\u001b[0m\u001b[0;34m\u001b[0m\u001b[0;34m\u001b[0m\u001b[0m\n\u001b[1;32m     17\u001b[0m                     \u001b[0mdo_return\u001b[0m \u001b[0;34m=\u001b[0m \u001b[0;32mFalse\u001b[0m\u001b[0;34m\u001b[0m\u001b[0;34m\u001b[0m\u001b[0m\n",
            "\u001b[0;31mValueError\u001b[0m: in user code:\n\n    File \"/usr/local/lib/python3.10/dist-packages/keras/src/engine/training.py\", line 2440, in predict_function  *\n        return step_function(self, iterator)\n    File \"/usr/local/lib/python3.10/dist-packages/keras/src/engine/training.py\", line 2425, in step_function  **\n        outputs = model.distribute_strategy.run(run_step, args=(data,))\n    File \"/usr/local/lib/python3.10/dist-packages/keras/src/engine/training.py\", line 2413, in run_step  **\n        outputs = model.predict_step(data)\n    File \"/usr/local/lib/python3.10/dist-packages/keras/src/engine/training.py\", line 2381, in predict_step\n        return self(x, training=False)\n    File \"/usr/local/lib/python3.10/dist-packages/keras/src/utils/traceback_utils.py\", line 70, in error_handler\n        raise e.with_traceback(filtered_tb) from None\n    File \"/usr/local/lib/python3.10/dist-packages/keras/src/engine/input_spec.py\", line 298, in assert_input_compatibility\n        raise ValueError(\n\n    ValueError: Input 0 of layer \"model_6\" is incompatible with the layer: expected shape=(None, 32, 32, 3), found shape=(None, 16, 16, 3)\n"
          ]
        }
      ]
    },
    {
      "cell_type": "markdown",
      "source": [
        "otro"
      ],
      "metadata": {
        "id": "Q41fABBWO1Ok"
      }
    },
    {
      "cell_type": "code",
      "source": [
        "# Redimensionar las imágenes a una resolución menor para ajustar el uso de memoria\n",
        "target_shape = (64, 64)\n",
        "train_images_resized = [cv2.resize(img, target_shape) for img in images_rgb]\n",
        "\n",
        "# Dividir en conjuntos de entrenamiento, validación y prueba\n",
        "train_images, test_images = train_test_split(train_images_resized, test_size=0.1, random_state=42)\n",
        "train_images, val_images = train_test_split(train_images, test_size=0.1, random_state=42)\n",
        "\n",
        "# Redimensionar las imágenes de baja resolución\n",
        "train_images_lr = [cv2.resize(img, (target_shape[0]//4, target_shape[1]//4)) for img in train_images]\n",
        "val_images_lr = [cv2.resize(img, (target_shape[0]//4, target_shape[1]//4)) for img in val_images]\n",
        "\n",
        "# Convertir a formato de tensor y asegurar que las formas son correctas\n",
        "train_images_lr = np.array(train_images_lr)\n",
        "val_images_lr = np.array(val_images_lr)\n",
        "train_images = np.array(train_images)\n",
        "val_images = np.array(val_images)\n",
        "\n",
        "print(f\"Forma de train_images_lr: {train_images_lr.shape}\")\n",
        "print(f\"Forma de train_images: {train_images.shape}\")"
      ],
      "metadata": {
        "colab": {
          "base_uri": "https://localhost:8080/"
        },
        "id": "jURFHjdBK1_6",
        "outputId": "d3e56dee-0ed3-4e3f-f6ac-634ab1a3ead8"
      },
      "execution_count": 3,
      "outputs": [
        {
          "output_type": "stream",
          "name": "stdout",
          "text": [
            "Forma de train_images_lr: (260, 16, 16, 3)\n",
            "Forma de train_images: (260, 64, 64, 3)\n"
          ]
        }
      ]
    },
    {
      "cell_type": "code",
      "source": [
        "# Crear generadores de datos\n",
        "train_datagen = ImageDataGenerator(rescale=1./255)\n",
        "val_datagen = ImageDataGenerator(rescale=1./255)\n",
        "\n",
        "train_generator = train_datagen.flow(train_images_lr, train_images, batch_size=16)\n",
        "val_generator = val_datagen.flow(val_images_lr, val_images, batch_size=16)\n"
      ],
      "metadata": {
        "id": "Di6VOzVSK_lW"
      },
      "execution_count": 4,
      "outputs": []
    },
    {
      "cell_type": "code",
      "source": [
        "from tensorflow.keras.layers import Input, Conv2D, UpSampling2D"
      ],
      "metadata": {
        "id": "pYg-5PVCMeyS"
      },
      "execution_count": 9,
      "outputs": []
    },
    {
      "cell_type": "code",
      "source": [
        "# Crear un modelo que convierte imágenes de 16x16 a 64x64\n",
        "input_layer = Input(shape=(target_shape[0]//4, target_shape[1]//4, 3))\n",
        "x = UpSampling2D(size=(4, 4))(input_layer)\n",
        "x = Conv2D(32, (3, 3), padding='same', activation='relu')(x)\n",
        "x = Conv2D(32, (3, 3), padding='same', activation='relu')(x)\n",
        "output_layer = Conv2D(3, (3, 3), padding='same')(x)\n",
        "\n",
        "model = Model(inputs=input_layer, outputs=output_layer)"
      ],
      "metadata": {
        "id": "DUhn-XVfLDi3"
      },
      "execution_count": 13,
      "outputs": []
    },
    {
      "cell_type": "code",
      "source": [
        "# Compilar el modelo\n",
        "model.compile(optimizer=Adam(learning_rate=1e-4), loss='mean_squared_error')"
      ],
      "metadata": {
        "id": "QTfKcYsjLFx2"
      },
      "execution_count": 14,
      "outputs": []
    },
    {
      "cell_type": "code",
      "source": [
        "# Entrenar el modelo usando generadores\n",
        "history = model.fit(train_generator,\n",
        "                    validation_data=val_generator,\n",
        "                    epochs=50,\n",
        "                    steps_per_epoch=len(train_images_lr)//16,\n",
        "                    validation_steps=len(val_images_lr)//16)"
      ],
      "metadata": {
        "colab": {
          "base_uri": "https://localhost:8080/"
        },
        "id": "DE94fAkzLJ54",
        "outputId": "fce62e43-0aba-4aa0-cb84-82f80a7bced4"
      },
      "execution_count": 24,
      "outputs": [
        {
          "output_type": "stream",
          "name": "stdout",
          "text": [
            "Epoch 1/50\n",
            "16/16 [==============================] - 0s 11ms/step - loss: 0.0711 - val_loss: 0.0693\n",
            "Epoch 2/50\n",
            "16/16 [==============================] - 0s 9ms/step - loss: 0.0692 - val_loss: 0.0648\n",
            "Epoch 3/50\n",
            "16/16 [==============================] - 0s 14ms/step - loss: 0.0671 - val_loss: 0.0650\n",
            "Epoch 4/50\n",
            "16/16 [==============================] - 0s 13ms/step - loss: 0.0643 - val_loss: 0.0625\n",
            "Epoch 5/50\n",
            "16/16 [==============================] - 0s 17ms/step - loss: 0.0612 - val_loss: 0.0560\n",
            "Epoch 6/50\n",
            "16/16 [==============================] - 0s 14ms/step - loss: 0.0578 - val_loss: 0.0561\n",
            "Epoch 7/50\n",
            "16/16 [==============================] - 0s 9ms/step - loss: 0.0538 - val_loss: 0.0479\n",
            "Epoch 8/50\n",
            "16/16 [==============================] - 0s 10ms/step - loss: 0.0494 - val_loss: 0.0467\n",
            "Epoch 9/50\n",
            "16/16 [==============================] - 0s 9ms/step - loss: 0.0447 - val_loss: 0.0392\n",
            "Epoch 10/50\n",
            "16/16 [==============================] - 0s 9ms/step - loss: 0.0392 - val_loss: 0.0350\n",
            "Epoch 11/50\n",
            "16/16 [==============================] - 0s 9ms/step - loss: 0.0335 - val_loss: 0.0277\n",
            "Epoch 12/50\n",
            "16/16 [==============================] - 0s 8ms/step - loss: 0.0276 - val_loss: 0.0253\n",
            "Epoch 13/50\n",
            "16/16 [==============================] - 0s 11ms/step - loss: 0.0220 - val_loss: 0.0191\n",
            "Epoch 14/50\n",
            "16/16 [==============================] - 0s 11ms/step - loss: 0.0173 - val_loss: 0.0149\n",
            "Epoch 15/50\n",
            "16/16 [==============================] - 0s 12ms/step - loss: 0.0132 - val_loss: 0.0115\n",
            "Epoch 16/50\n",
            "16/16 [==============================] - 0s 11ms/step - loss: 0.0103 - val_loss: 0.0086\n",
            "Epoch 17/50\n",
            "16/16 [==============================] - 0s 11ms/step - loss: 0.0081 - val_loss: 0.0057\n",
            "Epoch 18/50\n",
            "16/16 [==============================] - 0s 12ms/step - loss: 0.0066 - val_loss: 0.0063\n",
            "Epoch 19/50\n",
            "16/16 [==============================] - 0s 13ms/step - loss: 0.0058 - val_loss: 0.0048\n",
            "Epoch 20/50\n",
            "16/16 [==============================] - 0s 10ms/step - loss: 0.0055 - val_loss: 0.0044\n",
            "Epoch 21/50\n",
            "16/16 [==============================] - 0s 10ms/step - loss: 0.0053 - val_loss: 0.0048\n",
            "Epoch 22/50\n",
            "16/16 [==============================] - 0s 9ms/step - loss: 0.0052 - val_loss: 0.0049\n",
            "Epoch 23/50\n",
            "16/16 [==============================] - 0s 10ms/step - loss: 0.0051 - val_loss: 0.0052\n",
            "Epoch 24/50\n",
            "16/16 [==============================] - 0s 8ms/step - loss: 0.0051 - val_loss: 0.0044\n",
            "Epoch 25/50\n",
            "16/16 [==============================] - 0s 8ms/step - loss: 0.0052 - val_loss: 0.0052\n",
            "Epoch 26/50\n",
            "16/16 [==============================] - 0s 8ms/step - loss: 0.0050 - val_loss: 0.0045\n",
            "Epoch 27/50\n",
            "16/16 [==============================] - 0s 8ms/step - loss: 0.0050 - val_loss: 0.0051\n",
            "Epoch 28/50\n",
            "16/16 [==============================] - 0s 9ms/step - loss: 0.0051 - val_loss: 0.0053\n",
            "Epoch 29/50\n",
            "16/16 [==============================] - 0s 8ms/step - loss: 0.0050 - val_loss: 0.0052\n",
            "Epoch 30/50\n",
            "16/16 [==============================] - 0s 8ms/step - loss: 0.0051 - val_loss: 0.0045\n",
            "Epoch 31/50\n",
            "16/16 [==============================] - 0s 8ms/step - loss: 0.0050 - val_loss: 0.0043\n",
            "Epoch 32/50\n",
            "16/16 [==============================] - 0s 8ms/step - loss: 0.0050 - val_loss: 0.0052\n",
            "Epoch 33/50\n",
            "16/16 [==============================] - 0s 9ms/step - loss: 0.0050 - val_loss: 0.0046\n",
            "Epoch 34/50\n",
            "16/16 [==============================] - 0s 7ms/step - loss: 0.0050 - val_loss: 0.0048\n",
            "Epoch 35/50\n",
            "16/16 [==============================] - 0s 8ms/step - loss: 0.0050 - val_loss: 0.0044\n",
            "Epoch 36/50\n",
            "16/16 [==============================] - 0s 7ms/step - loss: 0.0049 - val_loss: 0.0042\n",
            "Epoch 37/50\n",
            "16/16 [==============================] - 0s 8ms/step - loss: 0.0050 - val_loss: 0.0049\n",
            "Epoch 38/50\n",
            "16/16 [==============================] - 0s 7ms/step - loss: 0.0050 - val_loss: 0.0052\n",
            "Epoch 39/50\n",
            "16/16 [==============================] - 0s 8ms/step - loss: 0.0051 - val_loss: 0.0047\n",
            "Epoch 40/50\n",
            "16/16 [==============================] - 0s 7ms/step - loss: 0.0050 - val_loss: 0.0053\n",
            "Epoch 41/50\n",
            "16/16 [==============================] - 0s 8ms/step - loss: 0.0050 - val_loss: 0.0046\n",
            "Epoch 42/50\n",
            "16/16 [==============================] - 0s 7ms/step - loss: 0.0050 - val_loss: 0.0050\n",
            "Epoch 43/50\n",
            "16/16 [==============================] - 0s 8ms/step - loss: 0.0050 - val_loss: 0.0048\n",
            "Epoch 44/50\n",
            "16/16 [==============================] - 0s 7ms/step - loss: 0.0049 - val_loss: 0.0048\n",
            "Epoch 45/50\n",
            "16/16 [==============================] - 0s 8ms/step - loss: 0.0050 - val_loss: 0.0049\n",
            "Epoch 46/50\n",
            "16/16 [==============================] - 0s 8ms/step - loss: 0.0050 - val_loss: 0.0051\n",
            "Epoch 47/50\n",
            "16/16 [==============================] - 0s 8ms/step - loss: 0.0049 - val_loss: 0.0049\n",
            "Epoch 48/50\n",
            "16/16 [==============================] - 0s 7ms/step - loss: 0.0049 - val_loss: 0.0042\n",
            "Epoch 49/50\n",
            "16/16 [==============================] - 0s 8ms/step - loss: 0.0049 - val_loss: 0.0050\n",
            "Epoch 50/50\n",
            "16/16 [==============================] - 0s 8ms/step - loss: 0.0049 - val_loss: 0.0044\n"
          ]
        }
      ]
    },
    {
      "cell_type": "code",
      "source": [
        "# Guardar el modelo ajustado\n",
        "model.save('edsr_fine_tuned.h5')"
      ],
      "metadata": {
        "id": "b6cHvdC9M4mI"
      },
      "execution_count": 22,
      "outputs": []
    },
    {
      "cell_type": "code",
      "source": [
        "# Evaluar el modelo en el conjunto de prueba\n",
        "test_images_lr = [cv2.resize(img, (target_shape[0]//4, target_shape[1]//4)) for img in test_images]\n",
        "test_images_lr = np.array(test_images_lr)\n",
        "test_images = np.array(test_images)"
      ],
      "metadata": {
        "id": "YaCFJpYUM67i"
      },
      "execution_count": 25,
      "outputs": []
    },
    {
      "cell_type": "code",
      "source": [
        "# Evaluar el modelo en el conjunto de prueba\n",
        "test_loss = model.evaluate(test_images_lr, test_images)\n",
        "print(f'Test Loss: {test_loss}')"
      ],
      "metadata": {
        "colab": {
          "base_uri": "https://localhost:8080/"
        },
        "id": "SvRFUf-JM-px",
        "outputId": "67f245ff-cad0-4bd2-ede6-8c408fd40244"
      },
      "execution_count": 26,
      "outputs": [
        {
          "output_type": "stream",
          "name": "stdout",
          "text": [
            "2/2 [==============================] - 0s 7ms/step - loss: 4505.2329\n",
            "Test Loss: 4505.23291015625\n"
          ]
        }
      ]
    },
    {
      "cell_type": "code",
      "source": [
        "# Realizar predicciones en el conjunto de prueba\n",
        "predicted_images = model.predict(test_images_lr)"
      ],
      "metadata": {
        "colab": {
          "base_uri": "https://localhost:8080/"
        },
        "id": "LaTaU2fjNDzj",
        "outputId": "28e48850-e72f-4648-fb6f-25a7a6b93269"
      },
      "execution_count": 19,
      "outputs": [
        {
          "output_type": "stream",
          "name": "stdout",
          "text": [
            "2/2 [==============================] - 0s 7ms/step\n"
          ]
        }
      ]
    },
    {
      "cell_type": "code",
      "source": [
        "# Visualizar algunas imágenes de prueba y sus predicciones\n",
        "for i in range(5):\n",
        "    plt.figure(figsize=(12, 4))\n",
        "    plt.subplot(1, 3, 1)\n",
        "    plt.title('Original')\n",
        "    plt.imshow(test_images[i], cmap='gray')\n",
        "\n",
        "    plt.subplot(1, 3, 2)\n",
        "    plt.title('Bajada de resolución')\n",
        "    plt.imshow(cv2.cvtColor(test_images_lr[i], cv2.COLOR_BGR2GRAY), cmap='gray')\n",
        "\n",
        "    plt.subplot(1, 3, 3)\n",
        "    plt.title('Superresolución')\n",
        "    plt.imshow(cv2.cvtColor(predicted_images[i], cv2.COLOR_BGR2GRAY), cmap='gray')\n",
        "    plt.show()"
      ],
      "metadata": {
        "colab": {
          "base_uri": "https://localhost:8080/",
          "height": 1000
        },
        "id": "jv7VpheyNOc1",
        "outputId": "d723bb3d-d95d-4ddd-d488-6e908db8845d"
      },
      "execution_count": 20,
      "outputs": [
        {
          "output_type": "display_data",
          "data": {
            "text/plain": [
              "<Figure size 1200x400 with 3 Axes>"
            ],
            "image/png": "[encoded data removed]"
          },
          "metadata": {}
        },
        {
          "output_type": "display_data",
          "data": {
            "text/plain": [
              "<Figure size 1200x400 with 3 Axes>"
            ],
            "image/png": "[encoded data removed]"
          },
          "metadata": {}
        },
        {
          "output_type": "display_data",
          "data": {
            "text/plain": [
              "<Figure size 1200x400 with 3 Axes>"
            ],
            "image/png": "[encoded data removed]"
          },
          "metadata": {}
        },
        {
          "output_type": "display_data",
          "data": {
            "text/plain": [
              "<Figure size 1200x400 with 3 Axes>"
            ],
            "image/png": "[encoded data removed]"
          },
          "metadata": {}
        },
        {
          "output_type": "display_data",
          "data": {
            "text/plain": [
              "<Figure size 1200x400 with 3 Axes>"
            ],
            "image/png": "[encoded data removed]"
          },
          "metadata": {}
        }
      ]
    },
    {
      "cell_type": "code",
      "source": [],
      "metadata": {
        "id": "VUDxn4zUNXku"
      },
      "execution_count": null,
      "outputs": []
    },
    {
      "cell_type": "markdown",
      "source": [],
      "metadata": {
        "id": "1c2Q-oaEKC8F"
      }
    },
    {
      "cell_type": "code",
      "source": [
        "import os\n",
        "import cv2\n",
        "import numpy as np\n",
        "from sklearn.model_selection import train_test_split\n",
        "\n",
        "# Directorio de imágenes\n",
        "data_dir = \"mias/all-mias/\"\n",
        "\n",
        "# Cargar y preprocesar imágenes\n",
        "images = []\n",
        "for file_name in os.listdir(data_dir):\n",
        "    if file_name.endswith('.pgm'):\n",
        "        img_path = os.path.join(data_dir, file_name)\n",
        "        img = cv2.imread(img_path, cv2.IMREAD_GRAYSCALE)\n",
        "        images.append(img)\n",
        "\n",
        "# Normalización\n",
        "images = np.array(images)\n",
        "images = images.astype('float32') / 255.0\n",
        "\n",
        "# Convertir imágenes en escala de grises a imágenes RGB\n",
        "images_rgb = [np.stack((img,)*3, axis=-1) for img in images]\n",
        "\n",
        "# Dividir en conjuntos de entrenamiento, validación y prueba\n",
        "train_images, test_images = train_test_split(images_rgb, test_size=0.1, random_state=42)\n",
        "train_images, val_images = train_test_split(train_images, test_size=0.1, random_state=42)\n",
        "\n",
        "# Redimensionar imágenes para entrenamiento (usando reducción de resolución)\n",
        "train_images_lr = [cv2.resize(img, (img.shape[1]//4, img.shape[0]//4)) for img in train_images]\n",
        "val_images_lr = [cv2.resize(img, (img.shape[1]//4, img.shape[0]//4)) for img in val_images]\n",
        "\n",
        "train_images_lr = np.array(train_images_lr)\n",
        "val_images_lr = np.array(val_images_lr)\n",
        "\n",
        "train_images = np.array(train_images)\n",
        "val_images = np.array(val_images)"
      ],
      "metadata": {
        "id": "s14nK-mMHpRs"
      },
      "execution_count": 2,
      "outputs": []
    },
    {
      "cell_type": "code",
      "source": [
        "import tensorflow as tf\n",
        "from tensorflow.keras.models import load_model\n",
        "\n",
        "# Descargar y cargar el modelo EDSR preentrenado (suponiendo que el modelo esté disponible en un repositorio)\n",
        "!git clone https://github.com/Saafke/EDSR_Tensorflow.git\n",
        "%cd EDSR_Tensorflow"
      ],
      "metadata": {
        "colab": {
          "base_uri": "https://localhost:8080/"
        },
        "id": "W-IKb9ZrH0Vw",
        "outputId": "5c2079c6-3892-4c56-b34e-cbfe3dd7731f"
      },
      "execution_count": 3,
      "outputs": [
        {
          "output_type": "stream",
          "name": "stdout",
          "text": [
            "Cloning into 'EDSR_Tensorflow'...\n",
            "remote: Enumerating objects: 149, done.\u001b[K\n",
            "remote: Counting objects: 100% (6/6), done.\u001b[K\n",
            "remote: Compressing objects: 100% (6/6), done.\u001b[K\n",
            "remote: Total 149 (delta 1), reused 0 (delta 0), pack-reused 143\u001b[K\n",
            "Receiving objects: 100% (149/149), 162.50 MiB | 21.19 MiB/s, done.\n",
            "Resolving deltas: 100% (77/77), done.\n",
            "/content/EDSR_Tensorflow\n"
          ]
        }
      ]
    },
    {
      "cell_type": "code",
      "source": [
        "import tensorflow as tf\n",
        "from tensorflow.keras.layers import Input, Conv2D\n",
        "from tensorflow.keras.models import Model\n",
        "\n",
        "# Cargar el modelo preentrenado\n",
        "def load_edsr_model(model_path):\n",
        "    with tf.io.gfile.GFile(model_path, \"rb\") as f:\n",
        "        graph_def = tf.compat.v1.GraphDef()\n",
        "        graph_def.ParseFromString(f.read())\n",
        "    session = tf.compat.v1.Session(graph=tf.Graph())\n",
        "    with session.graph.as_default():\n",
        "        tf.import_graph_def(graph_def, name=\"\")\n",
        "    return session\n",
        "\n",
        "model_path = '/content/EDSR_Tensorflow/models/EDSR_x4.pb'\n",
        "session = load_edsr_model(model_path)\n",
        "\n",
        "# Obtener las capas del modelo preentrenado\n",
        "input_tensor = session.graph.get_tensor_by_name(\"IteratorGetNext:0\")\n",
        "output_tensor = session.graph.get_tensor_by_name(\"NCHW_output:0\")\n",
        "\n",
        "# Construir un modelo Keras basado en el modelo preentrenado\n",
        "input_layer = Input(shape=(None, None, 3))\n",
        "x = Conv2D(64, (3, 3), padding='same', activation='relu')(input_layer)\n",
        "x = Conv2D(64, (3, 3), padding='same', activation='relu')(x)\n",
        "output_layer = Conv2D(3, (3, 3), padding='same')(x)\n",
        "\n",
        "model = Model(inputs=input_layer, outputs=output_layer)"
      ],
      "metadata": {
        "id": "dBj6Z1zZIC2n"
      },
      "execution_count": 4,
      "outputs": []
    },
    {
      "cell_type": "code",
      "source": [
        "from tensorflow.keras.optimizers import Adam\n",
        "\n",
        "# Compilar el modelo\n",
        "model.compile(optimizer=Adam(learning_rate=1e-4), loss='mean_squared_error')\n",
        "\n",
        "# Entrenar el modelo\n",
        "history = model.fit(train_images_lr, train_images,\n",
        "                    validation_data=(val_images_lr, val_images),\n",
        "                    epochs=10,\n",
        "                    batch_size=16)\n",
        "\n",
        "# Guardar el modelo ajustado\n",
        "model.save('edsr_fine_tuned.h5')"
      ],
      "metadata": {
        "id": "Pqg5nUDGIM0a"
      },
      "execution_count": null,
      "outputs": []
    },
    {
      "cell_type": "code",
      "source": [
        "# Redimensionar imágenes de prueba para evaluación\n",
        "test_images_lr = [cv2.resize(img, (img.shape[1]//4, img.shape[0]//4)) for img in test_images]\n",
        "test_images_lr = np.array(test_images_lr)\n",
        "test_images = np.array(test_images)\n",
        "\n",
        "# Evaluar el modelo en el conjunto de prueba\n",
        "test_loss = model.evaluate(test_images_lr, test_images)\n",
        "print(f'Test Loss: {test_loss}')\n",
        "\n",
        "# Realizar predicciones en el conjunto de prueba\n",
        "predicted_images = model.predict(test_images_lr)\n",
        "\n",
        "# Visualizar algunas imágenes de prueba y sus predicciones\n",
        "for i in range(5):\n",
        "    plt.figure(figsize=(12, 4))\n",
        "    plt.subplot(1, 3, 1)\n",
        "    plt.title('Original')\n",
        "    plt.imshow(test_images[i], cmap='gray')\n",
        "\n",
        "    plt.subplot(1, 3, 2)\n",
        "    plt.title('Bajada de resolución')\n",
        "    plt.imshow(cv2.cvtColor(test_images_lr[i], cv2.COLOR_BGR2GRAY), cmap='gray')\n",
        "\n",
        "    plt.subplot(1, 3, 3)\n",
        "    plt.title('Superresolución')\n",
        "    plt.imshow(cv2.cvtColor(predicted_images[i], cv2.COLOR_BGR2GRAY), cmap='gray')\n",
        "    plt.show()\n"
      ],
      "metadata": {
        "id": "TuyazebbJXGM"
      },
      "execution_count": null,
      "outputs": []
    },
    {
      "cell_type": "code",
      "source": [
        "# Redimensionar imágenes de prueba para evaluación\n",
        "test_images_lr = [cv2.resize(img, (img.shape[1]//4, img.shape[0]//4)) for img in test_images]\n",
        "test_images_lr = np.array(test_images_lr)\n",
        "test_images = np.array(test_images)\n",
        "\n",
        "# Evaluar el modelo en el conjunto de prueba\n",
        "test_loss = model.evaluate(test_images_lr, test_images)\n",
        "print(f'Test Loss: {test_loss}')\n",
        "\n",
        "# Realizar predicciones en el conjunto de prueba\n",
        "predicted_images = model.predict(test_images_lr)\n",
        "\n",
        "# Visualizar algunas imágenes de prueba y sus predicciones\n",
        "for i in range(5):\n",
        "    plt.figure(figsize=(12, 4))\n",
        "    plt.subplot(1, 3, 1)\n",
        "    plt.title('Original')\n",
        "    plt.imshow(test_images[i], cmap='gray')\n",
        "\n",
        "    plt.subplot(1, 3, 2)\n",
        "    plt.title('Bajada de resolución')\n",
        "    plt.imshow(cv2.cvtColor(test_images_lr[i], cv2.COLOR_BGR2GRAY), cmap='gray')\n",
        "\n",
        "    plt.subplot(1, 3, 3)\n",
        "    plt.title('Superresolución')\n",
        "    plt.imshow(cv2.cvtColor(predicted_images[i], cv2.COLOR_BGR2GRAY), cmap='gray')\n",
        "    plt.show()\n"
      ],
      "metadata": {
        "id": "vlw9OXizJa2I"
      },
      "execution_count": null,
      "outputs": []
    },
    {
      "cell_type": "code",
      "source": [],
      "metadata": {
        "id": "2X6ULbIeJclI"
      },
      "execution_count": null,
      "outputs": []
    }
  ]
}