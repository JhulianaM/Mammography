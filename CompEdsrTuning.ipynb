{
  "nbformat": 4,
  "nbformat_minor": 0,
  "metadata": {
    "colab": {
      "provenance": [],
      "gpuType": "T4",
      "authorship_tag": "ABX9TyN7RnV+gD9wseWrXb1dCfq5",
      "include_colab_link": true
    },
    "kernelspec": {
      "name": "python3",
      "display_name": "Python 3"
    },
    "language_info": {
      "name": "python"
    },
    "accelerator": "GPU"
  },
  "cells": [
    {
      "cell_type": "markdown",
      "metadata": {
        "id": "view-in-github",
        "colab_type": "text"
      },
      "source": [
        "<a href=\"https://colab.research.google.com/github/JhulianaM/Mammography/blob/master/CompEdsrTuning.ipynb\" target=\"_parent\"><img src=\"https://colab.research.google.com/assets/colab-badge.svg\" alt=\"Open In Colab\"/></a>"
      ]
    },
    {
      "cell_type": "code",
      "execution_count": 1,
      "metadata": {
        "colab": {
          "base_uri": "https://localhost:8080/",
          "height": 90
        },
        "id": "Hk8PYeDlcsHi",
        "outputId": "ce851eee-e91b-412a-c789-c7e44d9b4787"
      },
      "outputs": [
        {
          "output_type": "display_data",
          "data": {
            "text/plain": [
              "<IPython.core.display.HTML object>"
            ],
            "text/html": [
              "\n",
              "     <input type=\"file\" id=\"files-d6cee5ec-7100-462e-a8ff-39a14da76b9c\" name=\"files[]\" multiple disabled\n",
              "        style=\"border:none\" />\n",
              "     <output id=\"result-d6cee5ec-7100-462e-a8ff-39a14da76b9c\">\n",
              "      Upload widget is only available when the cell has been executed in the\n",
              "      current browser session. Please rerun this cell to enable.\n",
              "      </output>\n",
              "      <script>// Copyright 2017 Google LLC\n",
              "//\n",
              "// Licensed under the Apache License, Version 2.0 (the \"License\");\n",
              "// you may not use this file except in compliance with the License.\n",
              "// You may obtain a copy of the License at\n",
              "//\n",
              "//      http://www.apache.org/licenses/LICENSE-2.0\n",
              "//\n",
              "// Unless required by applicable law or agreed to in writing, software\n",
              "// distributed under the License is distributed on an \"AS IS\" BASIS,\n",
              "// WITHOUT WARRANTIES OR CONDITIONS OF ANY KIND, either express or implied.\n",
              "// See the License for the specific language governing permissions and\n",
              "// limitations under the License.\n",
              "\n",
              "/**\n",
              " * @fileoverview Helpers for google.colab Python module.\n",
              " */\n",
              "(function(scope) {\n",
              "function span(text, styleAttributes = {}) {\n",
              "  const element = document.createElement('span');\n",
              "  element.textContent = text;\n",
              "  for (const key of Object.keys(styleAttributes)) {\n",
              "    element.style[key] = styleAttributes[key];\n",
              "  }\n",
              "  return element;\n",
              "}\n",
              "\n",
              "// Max number of bytes which will be uploaded at a time.\n",
              "const MAX_PAYLOAD_SIZE = 100 * 1024;\n",
              "\n",
              "function _uploadFiles(inputId, outputId) {\n",
              "  const steps = uploadFilesStep(inputId, outputId);\n",
              "  const outputElement = document.getElementById(outputId);\n",
              "  // Cache steps on the outputElement to make it available for the next call\n",
              "  // to uploadFilesContinue from Python.\n",
              "  outputElement.steps = steps;\n",
              "\n",
              "  return _uploadFilesContinue(outputId);\n",
              "}\n",
              "\n",
              "// This is roughly an async generator (not supported in the browser yet),\n",
              "// where there are multiple asynchronous steps and the Python side is going\n",
              "// to poll for completion of each step.\n",
              "// This uses a Promise to block the python side on completion of each step,\n",
              "// then passes the result of the previous step as the input to the next step.\n",
              "function _uploadFilesContinue(outputId) {\n",
              "  const outputElement = document.getElementById(outputId);\n",
              "  const steps = outputElement.steps;\n",
              "\n",
              "  const next = steps.next(outputElement.lastPromiseValue);\n",
              "  return Promise.resolve(next.value.promise).then((value) => {\n",
              "    // Cache the last promise value to make it available to the next\n",
              "    // step of the generator.\n",
              "    outputElement.lastPromiseValue = value;\n",
              "    return next.value.response;\n",
              "  });\n",
              "}\n",
              "\n",
              "/**\n",
              " * Generator function which is called between each async step of the upload\n",
              " * process.\n",
              " * @param {string} inputId Element ID of the input file picker element.\n",
              " * @param {string} outputId Element ID of the output display.\n",
              " * @return {!Iterable<!Object>} Iterable of next steps.\n",
              " */\n",
              "function* uploadFilesStep(inputId, outputId) {\n",
              "  const inputElement = document.getElementById(inputId);\n",
              "  inputElement.disabled = false;\n",
              "\n",
              "  const outputElement = document.getElementById(outputId);\n",
              "  outputElement.innerHTML = '';\n",
              "\n",
              "  const pickedPromise = new Promise((resolve) => {\n",
              "    inputElement.addEventListener('change', (e) => {\n",
              "      resolve(e.target.files);\n",
              "    });\n",
              "  });\n",
              "\n",
              "  const cancel = document.createElement('button');\n",
              "  inputElement.parentElement.appendChild(cancel);\n",
              "  cancel.textContent = 'Cancel upload';\n",
              "  const cancelPromise = new Promise((resolve) => {\n",
              "    cancel.onclick = () => {\n",
              "      resolve(null);\n",
              "    };\n",
              "  });\n",
              "\n",
              "  // Wait for the user to pick the files.\n",
              "  const files = yield {\n",
              "    promise: Promise.race([pickedPromise, cancelPromise]),\n",
              "    response: {\n",
              "      action: 'starting',\n",
              "    }\n",
              "  };\n",
              "\n",
              "  cancel.remove();\n",
              "\n",
              "  // Disable the input element since further picks are not allowed.\n",
              "  inputElement.disabled = true;\n",
              "\n",
              "  if (!files) {\n",
              "    return {\n",
              "      response: {\n",
              "        action: 'complete',\n",
              "      }\n",
              "    };\n",
              "  }\n",
              "\n",
              "  for (const file of files) {\n",
              "    const li = document.createElement('li');\n",
              "    li.append(span(file.name, {fontWeight: 'bold'}));\n",
              "    li.append(span(\n",
              "        `(${file.type || 'n/a'}) - ${file.size} bytes, ` +\n",
              "        `last modified: ${\n",
              "            file.lastModifiedDate ? file.lastModifiedDate.toLocaleDateString() :\n",
              "                                    'n/a'} - `));\n",
              "    const percent = span('0% done');\n",
              "    li.appendChild(percent);\n",
              "\n",
              "    outputElement.appendChild(li);\n",
              "\n",
              "    const fileDataPromise = new Promise((resolve) => {\n",
              "      const reader = new FileReader();\n",
              "      reader.onload = (e) => {\n",
              "        resolve(e.target.result);\n",
              "      };\n",
              "      reader.readAsArrayBuffer(file);\n",
              "    });\n",
              "    // Wait for the data to be ready.\n",
              "    let fileData = yield {\n",
              "      promise: fileDataPromise,\n",
              "      response: {\n",
              "        action: 'continue',\n",
              "      }\n",
              "    };\n",
              "\n",
              "    // Use a chunked sending to avoid message size limits. See b/62115660.\n",
              "    let position = 0;\n",
              "    do {\n",
              "      const length = Math.min(fileData.byteLength - position, MAX_PAYLOAD_SIZE);\n",
              "      const chunk = new Uint8Array(fileData, position, length);\n",
              "      position += length;\n",
              "\n",
              "      const base64 = btoa(String.fromCharCode.apply(null, chunk));\n",
              "      yield {\n",
              "        response: {\n",
              "          action: 'append',\n",
              "          file: file.name,\n",
              "          data: base64,\n",
              "        },\n",
              "      };\n",
              "\n",
              "      let percentDone = fileData.byteLength === 0 ?\n",
              "          100 :\n",
              "          Math.round((position / fileData.byteLength) * 100);\n",
              "      percent.textContent = `${percentDone}% done`;\n",
              "\n",
              "    } while (position < fileData.byteLength);\n",
              "  }\n",
              "\n",
              "  // All done.\n",
              "  yield {\n",
              "    response: {\n",
              "      action: 'complete',\n",
              "    }\n",
              "  };\n",
              "}\n",
              "\n",
              "scope.google = scope.google || {};\n",
              "scope.google.colab = scope.google.colab || {};\n",
              "scope.google.colab._files = {\n",
              "  _uploadFiles,\n",
              "  _uploadFilesContinue,\n",
              "};\n",
              "})(self);\n",
              "</script> "
            ]
          },
          "metadata": {}
        },
        {
          "output_type": "stream",
          "name": "stdout",
          "text": [
            "Saving kaggle.json to kaggle.json\n"
          ]
        },
        {
          "output_type": "execute_result",
          "data": {
            "text/plain": [
              "{'kaggle.json': b'{\"username\":\"jhulianamercado\",\"key\":\"a71185f6733aa19acf1b25c0137bd4ea\"}'}"
            ]
          },
          "metadata": {},
          "execution_count": 1
        }
      ],
      "source": [
        "# Paso 1: Subir el archivo kaggle.json\n",
        "from google.colab import files\n",
        "files.upload()"
      ]
    },
    {
      "cell_type": "code",
      "source": [
        "# Paso 2: Configurar Kaggle\n",
        "!mkdir -p ~/.kaggle\n",
        "!cp kaggle.json ~/.kaggle/\n",
        "!chmod 600 ~/.kaggle/kaggle.json\n",
        "\n",
        "# Paso 3: Descargar el Dataset de Kaggle\n",
        "!kaggle datasets download -d kmader/mias-mammography\n",
        "!unzip mias-mammography.zip -d mias-mammography"
      ],
      "metadata": {
        "colab": {
          "base_uri": "https://localhost:8080/"
        },
        "id": "ZWlmFnhodKbM",
        "outputId": "47191e5e-4f77-43e1-8467-123345f6523b"
      },
      "execution_count": 2,
      "outputs": [
        {
          "output_type": "stream",
          "name": "stdout",
          "text": [
            "Dataset URL: https://www.kaggle.com/datasets/kmader/mias-mammography\n",
            "License(s): other\n",
            "Downloading mias-mammography.zip to /content\n",
            " 99% 308M/312M [00:11<00:00, 33.0MB/s]\n",
            "100% 312M/312M [00:11<00:00, 29.1MB/s]\n",
            "Archive:  mias-mammography.zip\n",
            "  inflating: mias-mammography/Info.txt  \n",
            "  inflating: mias-mammography/all-mias.tar.gz  \n",
            "  inflating: mias-mammography/all-mias/Info.txt  \n",
            "  inflating: mias-mammography/all-mias/Licence.txt  \n",
            "  inflating: mias-mammography/all-mias/README  \n",
            "  inflating: mias-mammography/all-mias/mdb001.pgm  \n",
            "  inflating: mias-mammography/all-mias/mdb002.pgm  \n",
            "  inflating: mias-mammography/all-mias/mdb003.pgm  \n",
            "  inflating: mias-mammography/all-mias/mdb004.pgm  \n",
            "  inflating: mias-mammography/all-mias/mdb005.pgm  \n",
            "  inflating: mias-mammography/all-mias/mdb006.pgm  \n",
            "  inflating: mias-mammography/all-mias/mdb007.pgm  \n",
            "  inflating: mias-mammography/all-mias/mdb008.pgm  \n",
            "  inflating: mias-mammography/all-mias/mdb009.pgm  \n",
            "  inflating: mias-mammography/all-mias/mdb010.pgm  \n",
            "  inflating: mias-mammography/all-mias/mdb011.pgm  \n",
            "  inflating: mias-mammography/all-mias/mdb012.pgm  \n",
            "  inflating: mias-mammography/all-mias/mdb013.pgm  \n",
            "  inflating: mias-mammography/all-mias/mdb014.pgm  \n",
            "  inflating: mias-mammography/all-mias/mdb015.pgm  \n",
            "  inflating: mias-mammography/all-mias/mdb016.pgm  \n",
            "  inflating: mias-mammography/all-mias/mdb017.pgm  \n",
            "  inflating: mias-mammography/all-mias/mdb018.pgm  \n",
            "  inflating: mias-mammography/all-mias/mdb019.pgm  \n",
            "  inflating: mias-mammography/all-mias/mdb020.pgm  \n",
            "  inflating: mias-mammography/all-mias/mdb021.pgm  \n",
            "  inflating: mias-mammography/all-mias/mdb022.pgm  \n",
            "  inflating: mias-mammography/all-mias/mdb023.pgm  \n",
            "  inflating: mias-mammography/all-mias/mdb024.pgm  \n",
            "  inflating: mias-mammography/all-mias/mdb025.pgm  \n",
            "  inflating: mias-mammography/all-mias/mdb026.pgm  \n",
            "  inflating: mias-mammography/all-mias/mdb027.pgm  \n",
            "  inflating: mias-mammography/all-mias/mdb028.pgm  \n",
            "  inflating: mias-mammography/all-mias/mdb029.pgm  \n",
            "  inflating: mias-mammography/all-mias/mdb030.pgm  \n",
            "  inflating: mias-mammography/all-mias/mdb031.pgm  \n",
            "  inflating: mias-mammography/all-mias/mdb032.pgm  \n",
            "  inflating: mias-mammography/all-mias/mdb033.pgm  \n",
            "  inflating: mias-mammography/all-mias/mdb034.pgm  \n",
            "  inflating: mias-mammography/all-mias/mdb035.pgm  \n",
            "  inflating: mias-mammography/all-mias/mdb036.pgm  \n",
            "  inflating: mias-mammography/all-mias/mdb037.pgm  \n",
            "  inflating: mias-mammography/all-mias/mdb038.pgm  \n",
            "  inflating: mias-mammography/all-mias/mdb039.pgm  \n",
            "  inflating: mias-mammography/all-mias/mdb040.pgm  \n",
            "  inflating: mias-mammography/all-mias/mdb041.pgm  \n",
            "  inflating: mias-mammography/all-mias/mdb042.pgm  \n",
            "  inflating: mias-mammography/all-mias/mdb043.pgm  \n",
            "  inflating: mias-mammography/all-mias/mdb044.pgm  \n",
            "  inflating: mias-mammography/all-mias/mdb045.pgm  \n",
            "  inflating: mias-mammography/all-mias/mdb046.pgm  \n",
            "  inflating: mias-mammography/all-mias/mdb047.pgm  \n",
            "  inflating: mias-mammography/all-mias/mdb048.pgm  \n",
            "  inflating: mias-mammography/all-mias/mdb049.pgm  \n",
            "  inflating: mias-mammography/all-mias/mdb050.pgm  \n",
            "  inflating: mias-mammography/all-mias/mdb051.pgm  \n",
            "  inflating: mias-mammography/all-mias/mdb052.pgm  \n",
            "  inflating: mias-mammography/all-mias/mdb053.pgm  \n",
            "  inflating: mias-mammography/all-mias/mdb054.pgm  \n",
            "  inflating: mias-mammography/all-mias/mdb055.pgm  \n",
            "  inflating: mias-mammography/all-mias/mdb056.pgm  \n",
            "  inflating: mias-mammography/all-mias/mdb057.pgm  \n",
            "  inflating: mias-mammography/all-mias/mdb058.pgm  \n",
            "  inflating: mias-mammography/all-mias/mdb059.pgm  \n",
            "  inflating: mias-mammography/all-mias/mdb060.pgm  \n",
            "  inflating: mias-mammography/all-mias/mdb061.pgm  \n",
            "  inflating: mias-mammography/all-mias/mdb062.pgm  \n",
            "  inflating: mias-mammography/all-mias/mdb063.pgm  \n",
            "  inflating: mias-mammography/all-mias/mdb064.pgm  \n",
            "  inflating: mias-mammography/all-mias/mdb065.pgm  \n",
            "  inflating: mias-mammography/all-mias/mdb066.pgm  \n",
            "  inflating: mias-mammography/all-mias/mdb067.pgm  \n",
            "  inflating: mias-mammography/all-mias/mdb068.pgm  \n",
            "  inflating: mias-mammography/all-mias/mdb069.pgm  \n",
            "  inflating: mias-mammography/all-mias/mdb070.pgm  \n",
            "  inflating: mias-mammography/all-mias/mdb071.pgm  \n",
            "  inflating: mias-mammography/all-mias/mdb072.pgm  \n",
            "  inflating: mias-mammography/all-mias/mdb073.pgm  \n",
            "  inflating: mias-mammography/all-mias/mdb074.pgm  \n",
            "  inflating: mias-mammography/all-mias/mdb075.pgm  \n",
            "  inflating: mias-mammography/all-mias/mdb076.pgm  \n",
            "  inflating: mias-mammography/all-mias/mdb077.pgm  \n",
            "  inflating: mias-mammography/all-mias/mdb078.pgm  \n",
            "  inflating: mias-mammography/all-mias/mdb079.pgm  \n",
            "  inflating: mias-mammography/all-mias/mdb080.pgm  \n",
            "  inflating: mias-mammography/all-mias/mdb081.pgm  \n",
            "  inflating: mias-mammography/all-mias/mdb082.pgm  \n",
            "  inflating: mias-mammography/all-mias/mdb083.pgm  \n",
            "  inflating: mias-mammography/all-mias/mdb084.pgm  \n",
            "  inflating: mias-mammography/all-mias/mdb085.pgm  \n",
            "  inflating: mias-mammography/all-mias/mdb086.pgm  \n",
            "  inflating: mias-mammography/all-mias/mdb087.pgm  \n",
            "  inflating: mias-mammography/all-mias/mdb088.pgm  \n",
            "  inflating: mias-mammography/all-mias/mdb089.pgm  \n",
            "  inflating: mias-mammography/all-mias/mdb090.pgm  \n",
            "  inflating: mias-mammography/all-mias/mdb091.pgm  \n",
            "  inflating: mias-mammography/all-mias/mdb092.pgm  \n",
            "  inflating: mias-mammography/all-mias/mdb093.pgm  \n",
            "  inflating: mias-mammography/all-mias/mdb094.pgm  \n",
            "  inflating: mias-mammography/all-mias/mdb095.pgm  \n",
            "  inflating: mias-mammography/all-mias/mdb096.pgm  \n",
            "  inflating: mias-mammography/all-mias/mdb097.pgm  \n",
            "  inflating: mias-mammography/all-mias/mdb098.pgm  \n",
            "  inflating: mias-mammography/all-mias/mdb099.pgm  \n",
            "  inflating: mias-mammography/all-mias/mdb100.pgm  \n",
            "  inflating: mias-mammography/all-mias/mdb101.pgm  \n",
            "  inflating: mias-mammography/all-mias/mdb102.pgm  \n",
            "  inflating: mias-mammography/all-mias/mdb103.pgm  \n",
            "  inflating: mias-mammography/all-mias/mdb104.pgm  \n",
            "  inflating: mias-mammography/all-mias/mdb105.pgm  \n",
            "  inflating: mias-mammography/all-mias/mdb106.pgm  \n",
            "  inflating: mias-mammography/all-mias/mdb107.pgm  \n",
            "  inflating: mias-mammography/all-mias/mdb108.pgm  \n",
            "  inflating: mias-mammography/all-mias/mdb109.pgm  \n",
            "  inflating: mias-mammography/all-mias/mdb110.pgm  \n",
            "  inflating: mias-mammography/all-mias/mdb111.pgm  \n",
            "  inflating: mias-mammography/all-mias/mdb112.pgm  \n",
            "  inflating: mias-mammography/all-mias/mdb113.pgm  \n",
            "  inflating: mias-mammography/all-mias/mdb114.pgm  \n",
            "  inflating: mias-mammography/all-mias/mdb115.pgm  \n",
            "  inflating: mias-mammography/all-mias/mdb116.pgm  \n",
            "  inflating: mias-mammography/all-mias/mdb117.pgm  \n",
            "  inflating: mias-mammography/all-mias/mdb118.pgm  \n",
            "  inflating: mias-mammography/all-mias/mdb119.pgm  \n",
            "  inflating: mias-mammography/all-mias/mdb120.pgm  \n",
            "  inflating: mias-mammography/all-mias/mdb121.pgm  \n",
            "  inflating: mias-mammography/all-mias/mdb122.pgm  \n",
            "  inflating: mias-mammography/all-mias/mdb123.pgm  \n",
            "  inflating: mias-mammography/all-mias/mdb124.pgm  \n",
            "  inflating: mias-mammography/all-mias/mdb125.pgm  \n",
            "  inflating: mias-mammography/all-mias/mdb126.pgm  \n",
            "  inflating: mias-mammography/all-mias/mdb127.pgm  \n",
            "  inflating: mias-mammography/all-mias/mdb128.pgm  \n",
            "  inflating: mias-mammography/all-mias/mdb129.pgm  \n",
            "  inflating: mias-mammography/all-mias/mdb130.pgm  \n",
            "  inflating: mias-mammography/all-mias/mdb131.pgm  \n",
            "  inflating: mias-mammography/all-mias/mdb132.pgm  \n",
            "  inflating: mias-mammography/all-mias/mdb133.pgm  \n",
            "  inflating: mias-mammography/all-mias/mdb134.pgm  \n",
            "  inflating: mias-mammography/all-mias/mdb135.pgm  \n",
            "  inflating: mias-mammography/all-mias/mdb136.pgm  \n",
            "  inflating: mias-mammography/all-mias/mdb137.pgm  \n",
            "  inflating: mias-mammography/all-mias/mdb138.pgm  \n",
            "  inflating: mias-mammography/all-mias/mdb139.pgm  \n",
            "  inflating: mias-mammography/all-mias/mdb140.pgm  \n",
            "  inflating: mias-mammography/all-mias/mdb141.pgm  \n",
            "  inflating: mias-mammography/all-mias/mdb142.pgm  \n",
            "  inflating: mias-mammography/all-mias/mdb143.pgm  \n",
            "  inflating: mias-mammography/all-mias/mdb144.pgm  \n",
            "  inflating: mias-mammography/all-mias/mdb145.pgm  \n",
            "  inflating: mias-mammography/all-mias/mdb146.pgm  \n",
            "  inflating: mias-mammography/all-mias/mdb147.pgm  \n",
            "  inflating: mias-mammography/all-mias/mdb148.pgm  \n",
            "  inflating: mias-mammography/all-mias/mdb149.pgm  \n",
            "  inflating: mias-mammography/all-mias/mdb150.pgm  \n",
            "  inflating: mias-mammography/all-mias/mdb151.pgm  \n",
            "  inflating: mias-mammography/all-mias/mdb152.pgm  \n",
            "  inflating: mias-mammography/all-mias/mdb153.pgm  \n",
            "  inflating: mias-mammography/all-mias/mdb154.pgm  \n",
            "  inflating: mias-mammography/all-mias/mdb155.pgm  \n",
            "  inflating: mias-mammography/all-mias/mdb156.pgm  \n",
            "  inflating: mias-mammography/all-mias/mdb157.pgm  \n",
            "  inflating: mias-mammography/all-mias/mdb158.pgm  \n",
            "  inflating: mias-mammography/all-mias/mdb159.pgm  \n",
            "  inflating: mias-mammography/all-mias/mdb160.pgm  \n",
            "  inflating: mias-mammography/all-mias/mdb161.pgm  \n",
            "  inflating: mias-mammography/all-mias/mdb162.pgm  \n",
            "  inflating: mias-mammography/all-mias/mdb163.pgm  \n",
            "  inflating: mias-mammography/all-mias/mdb164.pgm  \n",
            "  inflating: mias-mammography/all-mias/mdb165.pgm  \n",
            "  inflating: mias-mammography/all-mias/mdb166.pgm  \n",
            "  inflating: mias-mammography/all-mias/mdb167.pgm  \n",
            "  inflating: mias-mammography/all-mias/mdb168.pgm  \n",
            "  inflating: mias-mammography/all-mias/mdb169.pgm  \n",
            "  inflating: mias-mammography/all-mias/mdb170.pgm  \n",
            "  inflating: mias-mammography/all-mias/mdb171.pgm  \n",
            "  inflating: mias-mammography/all-mias/mdb172.pgm  \n",
            "  inflating: mias-mammography/all-mias/mdb173.pgm  \n",
            "  inflating: mias-mammography/all-mias/mdb174.pgm  \n",
            "  inflating: mias-mammography/all-mias/mdb175.pgm  \n",
            "  inflating: mias-mammography/all-mias/mdb176.pgm  \n",
            "  inflating: mias-mammography/all-mias/mdb177.pgm  \n",
            "  inflating: mias-mammography/all-mias/mdb178.pgm  \n",
            "  inflating: mias-mammography/all-mias/mdb179.pgm  \n",
            "  inflating: mias-mammography/all-mias/mdb180.pgm  \n",
            "  inflating: mias-mammography/all-mias/mdb181.pgm  \n",
            "  inflating: mias-mammography/all-mias/mdb182.pgm  \n",
            "  inflating: mias-mammography/all-mias/mdb183.pgm  \n",
            "  inflating: mias-mammography/all-mias/mdb184.pgm  \n",
            "  inflating: mias-mammography/all-mias/mdb185.pgm  \n",
            "  inflating: mias-mammography/all-mias/mdb186.pgm  \n",
            "  inflating: mias-mammography/all-mias/mdb187.pgm  \n",
            "  inflating: mias-mammography/all-mias/mdb188.pgm  \n",
            "  inflating: mias-mammography/all-mias/mdb189.pgm  \n",
            "  inflating: mias-mammography/all-mias/mdb190.pgm  \n",
            "  inflating: mias-mammography/all-mias/mdb191.pgm  \n",
            "  inflating: mias-mammography/all-mias/mdb192.pgm  \n",
            "  inflating: mias-mammography/all-mias/mdb193.pgm  \n",
            "  inflating: mias-mammography/all-mias/mdb194.pgm  \n",
            "  inflating: mias-mammography/all-mias/mdb195.pgm  \n",
            "  inflating: mias-mammography/all-mias/mdb196.pgm  \n",
            "  inflating: mias-mammography/all-mias/mdb197.pgm  \n",
            "  inflating: mias-mammography/all-mias/mdb198.pgm  \n",
            "  inflating: mias-mammography/all-mias/mdb199.pgm  \n",
            "  inflating: mias-mammography/all-mias/mdb200.pgm  \n",
            "  inflating: mias-mammography/all-mias/mdb201.pgm  \n",
            "  inflating: mias-mammography/all-mias/mdb202.pgm  \n",
            "  inflating: mias-mammography/all-mias/mdb203.pgm  \n",
            "  inflating: mias-mammography/all-mias/mdb204.pgm  \n",
            "  inflating: mias-mammography/all-mias/mdb205.pgm  \n",
            "  inflating: mias-mammography/all-mias/mdb206.pgm  \n",
            "  inflating: mias-mammography/all-mias/mdb207.pgm  \n",
            "  inflating: mias-mammography/all-mias/mdb208.pgm  \n",
            "  inflating: mias-mammography/all-mias/mdb209.pgm  \n",
            "  inflating: mias-mammography/all-mias/mdb210.pgm  \n",
            "  inflating: mias-mammography/all-mias/mdb211.pgm  \n",
            "  inflating: mias-mammography/all-mias/mdb212.pgm  \n",
            "  inflating: mias-mammography/all-mias/mdb213.pgm  \n",
            "  inflating: mias-mammography/all-mias/mdb214.pgm  \n",
            "  inflating: mias-mammography/all-mias/mdb215.pgm  \n",
            "  inflating: mias-mammography/all-mias/mdb216.pgm  \n",
            "  inflating: mias-mammography/all-mias/mdb217.pgm  \n",
            "  inflating: mias-mammography/all-mias/mdb218.pgm  \n",
            "  inflating: mias-mammography/all-mias/mdb219.pgm  \n",
            "  inflating: mias-mammography/all-mias/mdb220.pgm  \n",
            "  inflating: mias-mammography/all-mias/mdb221.pgm  \n",
            "  inflating: mias-mammography/all-mias/mdb222.pgm  \n",
            "  inflating: mias-mammography/all-mias/mdb223.pgm  \n",
            "  inflating: mias-mammography/all-mias/mdb224.pgm  \n",
            "  inflating: mias-mammography/all-mias/mdb225.pgm  \n",
            "  inflating: mias-mammography/all-mias/mdb226.pgm  \n",
            "  inflating: mias-mammography/all-mias/mdb227.pgm  \n",
            "  inflating: mias-mammography/all-mias/mdb228.pgm  \n",
            "  inflating: mias-mammography/all-mias/mdb229.pgm  \n",
            "  inflating: mias-mammography/all-mias/mdb230.pgm  \n",
            "  inflating: mias-mammography/all-mias/mdb231.pgm  \n",
            "  inflating: mias-mammography/all-mias/mdb232.pgm  \n",
            "  inflating: mias-mammography/all-mias/mdb233.pgm  \n",
            "  inflating: mias-mammography/all-mias/mdb234.pgm  \n",
            "  inflating: mias-mammography/all-mias/mdb235.pgm  \n",
            "  inflating: mias-mammography/all-mias/mdb236.pgm  \n",
            "  inflating: mias-mammography/all-mias/mdb237.pgm  \n",
            "  inflating: mias-mammography/all-mias/mdb238.pgm  \n",
            "  inflating: mias-mammography/all-mias/mdb239.pgm  \n",
            "  inflating: mias-mammography/all-mias/mdb240.pgm  \n",
            "  inflating: mias-mammography/all-mias/mdb241.pgm  \n",
            "  inflating: mias-mammography/all-mias/mdb242.pgm  \n",
            "  inflating: mias-mammography/all-mias/mdb243.pgm  \n",
            "  inflating: mias-mammography/all-mias/mdb244.pgm  \n",
            "  inflating: mias-mammography/all-mias/mdb245.pgm  \n",
            "  inflating: mias-mammography/all-mias/mdb246.pgm  \n",
            "  inflating: mias-mammography/all-mias/mdb247.pgm  \n",
            "  inflating: mias-mammography/all-mias/mdb248.pgm  \n",
            "  inflating: mias-mammography/all-mias/mdb249.pgm  \n",
            "  inflating: mias-mammography/all-mias/mdb250.pgm  \n",
            "  inflating: mias-mammography/all-mias/mdb251.pgm  \n",
            "  inflating: mias-mammography/all-mias/mdb252.pgm  \n",
            "  inflating: mias-mammography/all-mias/mdb253.pgm  \n",
            "  inflating: mias-mammography/all-mias/mdb254.pgm  \n",
            "  inflating: mias-mammography/all-mias/mdb255.pgm  \n",
            "  inflating: mias-mammography/all-mias/mdb256.pgm  \n",
            "  inflating: mias-mammography/all-mias/mdb257.pgm  \n",
            "  inflating: mias-mammography/all-mias/mdb258.pgm  \n",
            "  inflating: mias-mammography/all-mias/mdb259.pgm  \n",
            "  inflating: mias-mammography/all-mias/mdb260.pgm  \n",
            "  inflating: mias-mammography/all-mias/mdb261.pgm  \n",
            "  inflating: mias-mammography/all-mias/mdb262.pgm  \n",
            "  inflating: mias-mammography/all-mias/mdb263.pgm  \n",
            "  inflating: mias-mammography/all-mias/mdb264.pgm  \n",
            "  inflating: mias-mammography/all-mias/mdb265.pgm  \n",
            "  inflating: mias-mammography/all-mias/mdb266.pgm  \n",
            "  inflating: mias-mammography/all-mias/mdb267.pgm  \n",
            "  inflating: mias-mammography/all-mias/mdb268.pgm  \n",
            "  inflating: mias-mammography/all-mias/mdb269.pgm  \n",
            "  inflating: mias-mammography/all-mias/mdb270.pgm  \n",
            "  inflating: mias-mammography/all-mias/mdb271.pgm  \n",
            "  inflating: mias-mammography/all-mias/mdb272.pgm  \n",
            "  inflating: mias-mammography/all-mias/mdb273.pgm  \n",
            "  inflating: mias-mammography/all-mias/mdb274.pgm  \n",
            "  inflating: mias-mammography/all-mias/mdb275.pgm  \n",
            "  inflating: mias-mammography/all-mias/mdb276.pgm  \n",
            "  inflating: mias-mammography/all-mias/mdb277.pgm  \n",
            "  inflating: mias-mammography/all-mias/mdb278.pgm  \n",
            "  inflating: mias-mammography/all-mias/mdb279.pgm  \n",
            "  inflating: mias-mammography/all-mias/mdb280.pgm  \n",
            "  inflating: mias-mammography/all-mias/mdb281.pgm  \n",
            "  inflating: mias-mammography/all-mias/mdb282.pgm  \n",
            "  inflating: mias-mammography/all-mias/mdb283.pgm  \n",
            "  inflating: mias-mammography/all-mias/mdb284.pgm  \n",
            "  inflating: mias-mammography/all-mias/mdb285.pgm  \n",
            "  inflating: mias-mammography/all-mias/mdb286.pgm  \n",
            "  inflating: mias-mammography/all-mias/mdb287.pgm  \n",
            "  inflating: mias-mammography/all-mias/mdb288.pgm  \n",
            "  inflating: mias-mammography/all-mias/mdb289.pgm  \n",
            "  inflating: mias-mammography/all-mias/mdb290.pgm  \n",
            "  inflating: mias-mammography/all-mias/mdb291.pgm  \n",
            "  inflating: mias-mammography/all-mias/mdb292.pgm  \n",
            "  inflating: mias-mammography/all-mias/mdb293.pgm  \n",
            "  inflating: mias-mammography/all-mias/mdb294.pgm  \n",
            "  inflating: mias-mammography/all-mias/mdb295.pgm  \n",
            "  inflating: mias-mammography/all-mias/mdb296.pgm  \n",
            "  inflating: mias-mammography/all-mias/mdb297.pgm  \n",
            "  inflating: mias-mammography/all-mias/mdb298.pgm  \n",
            "  inflating: mias-mammography/all-mias/mdb299.pgm  \n",
            "  inflating: mias-mammography/all-mias/mdb300.pgm  \n",
            "  inflating: mias-mammography/all-mias/mdb301.pgm  \n",
            "  inflating: mias-mammography/all-mias/mdb302.pgm  \n",
            "  inflating: mias-mammography/all-mias/mdb303.pgm  \n",
            "  inflating: mias-mammography/all-mias/mdb304.pgm  \n",
            "  inflating: mias-mammography/all-mias/mdb305.pgm  \n",
            "  inflating: mias-mammography/all-mias/mdb306.pgm  \n",
            "  inflating: mias-mammography/all-mias/mdb307.pgm  \n",
            "  inflating: mias-mammography/all-mias/mdb308.pgm  \n",
            "  inflating: mias-mammography/all-mias/mdb309.pgm  \n",
            "  inflating: mias-mammography/all-mias/mdb310.pgm  \n",
            "  inflating: mias-mammography/all-mias/mdb311.pgm  \n",
            "  inflating: mias-mammography/all-mias/mdb312.pgm  \n",
            "  inflating: mias-mammography/all-mias/mdb313.pgm  \n",
            "  inflating: mias-mammography/all-mias/mdb314.pgm  \n",
            "  inflating: mias-mammography/all-mias/mdb315.pgm  \n",
            "  inflating: mias-mammography/all-mias/mdb316.pgm  \n",
            "  inflating: mias-mammography/all-mias/mdb317.pgm  \n",
            "  inflating: mias-mammography/all-mias/mdb318.pgm  \n",
            "  inflating: mias-mammography/all-mias/mdb319.pgm  \n",
            "  inflating: mias-mammography/all-mias/mdb320.pgm  \n",
            "  inflating: mias-mammography/all-mias/mdb321.pgm  \n",
            "  inflating: mias-mammography/all-mias/mdb322.pgm  \n",
            "  inflating: mias-mammography/all_mias_scans.h5  \n"
          ]
        }
      ]
    },
    {
      "cell_type": "code",
      "source": [
        "import cv2\n",
        "import numpy as np\n",
        "import glob\n",
        "import os\n",
        "from sklearn.model_selection import train_test_split\n",
        "from tensorflow.keras.preprocessing.image import img_to_array, load_img\n",
        "from kaggle.api.kaggle_api_extended import KaggleApi\n",
        "from sklearn.model_selection import train_test_split\n",
        "#from tensorflow.keras.preprocessing.image import img_to_array, load_img\n",
        "import tensorflow as tf\n",
        "import tensorflow_hub as hub\n",
        "from tensorflow.keras.callbacks import ModelCheckpoint, ReduceLROnPlateau\n",
        "from tensorflow.keras.preprocessing.image import ImageDataGenerator\n",
        "import matplotlib.pyplot as plt"
      ],
      "metadata": {
        "id": "kQ0KL36IdgSQ"
      },
      "execution_count": 15,
      "outputs": []
    },
    {
      "cell_type": "code",
      "source": [
        "# Preprocesamiento de las imágenes\n",
        "def load_images(path, img_size=(256, 256)):\n",
        "    images = []\n",
        "    for img_path in glob.glob(path + '/*.pgm'):\n",
        "        img = load_img(img_path, color_mode='grayscale', target_size=img_size)\n",
        "        img = img_to_array(img)\n",
        "        img = img / 255.0  # Normalizar\n",
        "        images.append(img)\n",
        "    return np.array(images)\n",
        "\n",
        "# Cargar las imágenes\n",
        "#images_path = './all-mias'\n",
        "images_path = './mias-mammography/all-mias'\n",
        "images = load_images(images_path)\n",
        "\n",
        "#print(f\"Total images loaded: {len(images)}\")\n",
        "#print(f\"Shape of first image: {images[0].shape}\")\n",
        "\n",
        "# Crear imágenes de baja resolución\n",
        "def create_low_res_images(images, scale=2):\n",
        "    low_res_images = []\n",
        "    for img in images:\n",
        "        low_res_img = cv2.resize(img, (img.shape[1] // scale, img.shape[0] // scale), interpolation=cv2.INTER_AREA)\n",
        "        low_res_img = cv2.resize(low_res_img, (img.shape[1], img.shape[0]), interpolation=cv2.INTER_LINEAR)\n",
        "        low_res_images.append(low_res_img)\n",
        "    return np.array(low_res_images)\n",
        "\n",
        "low_res_images = create_low_res_images(images)\n",
        "\n",
        "# Expandiendo las dimensiones para tener la forma (num_images, height, width, channels)\n",
        "x_train, x_test, y_train, y_test = train_test_split(low_res_images, images, test_size=0.2, random_state=42)\n",
        "x_train = np.expand_dims(x_train, axis=-1)\n",
        "x_test = np.expand_dims(x_test, axis=-1)\n",
        "\n",
        "# Asegurarse de que las formas sean correctas para y_train y y_test\n",
        "y_train = np.expand_dims(y_train, axis=-1).squeeze(axis=-1)\n",
        "y_test = np.expand_dims(y_test, axis=-1).squeeze(axis=-1)"
      ],
      "metadata": {
        "id": "3hKIq-U_dl5g"
      },
      "execution_count": 6,
      "outputs": []
    },
    {
      "cell_type": "code",
      "source": [
        "plt.figure(figsize=(10, 5))\n",
        "plt.subplot(1, 2, 1)\n",
        "plt.title(\"Imagen Original\")\n",
        "plt.imshow(images[0], cmap='gray')\n",
        "plt.subplot(1, 2, 2)\n",
        "plt.title(\"Imagen Baja Resolución\")\n",
        "plt.imshow(low_res_images[0], cmap='gray')\n",
        "plt.show()"
      ],
      "metadata": {
        "colab": {
          "base_uri": "https://localhost:8080/",
          "height": 435
        },
        "id": "JiFLO62xrykV",
        "outputId": "1b2e8efb-17b3-4863-94c0-d96049a93c4c"
      },
      "execution_count": 33,
      "outputs": [
        {
          "output_type": "display_data",
          "data": {
            "text/plain": [
              "<Figure size 1000x500 with 2 Axes>"
            ],
            "image/png": "[encoded data removed]"
          },
          "metadata": {}
        }
      ]
    },
    {
      "cell_type": "code",
      "source": [
        "# Verificar las formas\n",
        "print(f\"x_train shape: {x_train.shape}\")\n",
        "print(f\"x_test shape: {x_test.shape}\")\n",
        "print(f\"y_train shape: {y_train.shape}\")\n",
        "print(f\"y_test shape: {y_test.shape}\")"
      ],
      "metadata": {
        "colab": {
          "base_uri": "https://localhost:8080/"
        },
        "id": "n8M728ehdSVy",
        "outputId": "01f0f4e2-9f02-498f-9e4a-5028cfbad201"
      },
      "execution_count": 7,
      "outputs": [
        {
          "output_type": "stream",
          "name": "stdout",
          "text": [
            "x_train shape: (257, 256, 256, 1)\n",
            "x_test shape: (65, 256, 256, 1)\n",
            "y_train shape: (257, 256, 256, 1)\n",
            "y_test shape: (65, 256, 256, 1)\n"
          ]
        }
      ]
    },
    {
      "cell_type": "code",
      "source": [
        "pip install tensorflow-hub"
      ],
      "metadata": {
        "colab": {
          "base_uri": "https://localhost:8080/"
        },
        "id": "CIFDwM2Ld0j4",
        "outputId": "824c95cd-53bf-4e4a-ba19-95d7ebfa7d37"
      },
      "execution_count": 8,
      "outputs": [
        {
          "output_type": "stream",
          "name": "stdout",
          "text": [
            "Requirement already satisfied: tensorflow-hub in /usr/local/lib/python3.10/dist-packages (0.16.1)\n",
            "Requirement already satisfied: numpy>=1.12.0 in /usr/local/lib/python3.10/dist-packages (from tensorflow-hub) (1.25.2)\n",
            "Requirement already satisfied: protobuf>=3.19.6 in /usr/local/lib/python3.10/dist-packages (from tensorflow-hub) (3.20.3)\n",
            "Requirement already satisfied: tf-keras>=2.14.1 in /usr/local/lib/python3.10/dist-packages (from tensorflow-hub) (2.15.1)\n",
            "Requirement already satisfied: tensorflow<2.16,>=2.15 in /usr/local/lib/python3.10/dist-packages (from tf-keras>=2.14.1->tensorflow-hub) (2.15.0)\n",
            "Requirement already satisfied: absl-py>=1.0.0 in /usr/local/lib/python3.10/dist-packages (from tensorflow<2.16,>=2.15->tf-keras>=2.14.1->tensorflow-hub) (1.4.0)\n",
            "Requirement already satisfied: astunparse>=1.6.0 in /usr/local/lib/python3.10/dist-packages (from tensorflow<2.16,>=2.15->tf-keras>=2.14.1->tensorflow-hub) (1.6.3)\n",
            "Requirement already satisfied: flatbuffers>=23.5.26 in /usr/local/lib/python3.10/dist-packages (from tensorflow<2.16,>=2.15->tf-keras>=2.14.1->tensorflow-hub) (24.3.25)\n",
            "Requirement already satisfied: gast!=0.5.0,!=0.5.1,!=0.5.2,>=0.2.1 in /usr/local/lib/python3.10/dist-packages (from tensorflow<2.16,>=2.15->tf-keras>=2.14.1->tensorflow-hub) (0.5.4)\n",
            "Requirement already satisfied: google-pasta>=0.1.1 in /usr/local/lib/python3.10/dist-packages (from tensorflow<2.16,>=2.15->tf-keras>=2.14.1->tensorflow-hub) (0.2.0)\n",
            "Requirement already satisfied: h5py>=2.9.0 in /usr/local/lib/python3.10/dist-packages (from tensorflow<2.16,>=2.15->tf-keras>=2.14.1->tensorflow-hub) (3.9.0)\n",
            "Requirement already satisfied: libclang>=13.0.0 in /usr/local/lib/python3.10/dist-packages (from tensorflow<2.16,>=2.15->tf-keras>=2.14.1->tensorflow-hub) (18.1.1)\n",
            "Requirement already satisfied: ml-dtypes~=0.2.0 in /usr/local/lib/python3.10/dist-packages (from tensorflow<2.16,>=2.15->tf-keras>=2.14.1->tensorflow-hub) (0.2.0)\n",
            "Requirement already satisfied: opt-einsum>=2.3.2 in /usr/local/lib/python3.10/dist-packages (from tensorflow<2.16,>=2.15->tf-keras>=2.14.1->tensorflow-hub) (3.3.0)\n",
            "Requirement already satisfied: packaging in /usr/local/lib/python3.10/dist-packages (from tensorflow<2.16,>=2.15->tf-keras>=2.14.1->tensorflow-hub) (24.1)\n",
            "Requirement already satisfied: setuptools in /usr/local/lib/python3.10/dist-packages (from tensorflow<2.16,>=2.15->tf-keras>=2.14.1->tensorflow-hub) (67.7.2)\n",
            "Requirement already satisfied: six>=1.12.0 in /usr/local/lib/python3.10/dist-packages (from tensorflow<2.16,>=2.15->tf-keras>=2.14.1->tensorflow-hub) (1.16.0)\n",
            "Requirement already satisfied: termcolor>=1.1.0 in /usr/local/lib/python3.10/dist-packages (from tensorflow<2.16,>=2.15->tf-keras>=2.14.1->tensorflow-hub) (2.4.0)\n",
            "Requirement already satisfied: typing-extensions>=3.6.6 in /usr/local/lib/python3.10/dist-packages (from tensorflow<2.16,>=2.15->tf-keras>=2.14.1->tensorflow-hub) (4.12.2)\n",
            "Requirement already satisfied: wrapt<1.15,>=1.11.0 in /usr/local/lib/python3.10/dist-packages (from tensorflow<2.16,>=2.15->tf-keras>=2.14.1->tensorflow-hub) (1.14.1)\n",
            "Requirement already satisfied: tensorflow-io-gcs-filesystem>=0.23.1 in /usr/local/lib/python3.10/dist-packages (from tensorflow<2.16,>=2.15->tf-keras>=2.14.1->tensorflow-hub) (0.37.0)\n",
            "Requirement already satisfied: grpcio<2.0,>=1.24.3 in /usr/local/lib/python3.10/dist-packages (from tensorflow<2.16,>=2.15->tf-keras>=2.14.1->tensorflow-hub) (1.64.1)\n",
            "Requirement already satisfied: tensorboard<2.16,>=2.15 in /usr/local/lib/python3.10/dist-packages (from tensorflow<2.16,>=2.15->tf-keras>=2.14.1->tensorflow-hub) (2.15.2)\n",
            "Requirement already satisfied: tensorflow-estimator<2.16,>=2.15.0 in /usr/local/lib/python3.10/dist-packages (from tensorflow<2.16,>=2.15->tf-keras>=2.14.1->tensorflow-hub) (2.15.0)\n",
            "Requirement already satisfied: keras<2.16,>=2.15.0 in /usr/local/lib/python3.10/dist-packages (from tensorflow<2.16,>=2.15->tf-keras>=2.14.1->tensorflow-hub) (2.15.0)\n",
            "Requirement already satisfied: wheel<1.0,>=0.23.0 in /usr/local/lib/python3.10/dist-packages (from astunparse>=1.6.0->tensorflow<2.16,>=2.15->tf-keras>=2.14.1->tensorflow-hub) (0.43.0)\n",
            "Requirement already satisfied: google-auth<3,>=1.6.3 in /usr/local/lib/python3.10/dist-packages (from tensorboard<2.16,>=2.15->tensorflow<2.16,>=2.15->tf-keras>=2.14.1->tensorflow-hub) (2.27.0)\n",
            "Requirement already satisfied: google-auth-oauthlib<2,>=0.5 in /usr/local/lib/python3.10/dist-packages (from tensorboard<2.16,>=2.15->tensorflow<2.16,>=2.15->tf-keras>=2.14.1->tensorflow-hub) (1.2.0)\n",
            "Requirement already satisfied: markdown>=2.6.8 in /usr/local/lib/python3.10/dist-packages (from tensorboard<2.16,>=2.15->tensorflow<2.16,>=2.15->tf-keras>=2.14.1->tensorflow-hub) (3.6)\n",
            "Requirement already satisfied: requests<3,>=2.21.0 in /usr/local/lib/python3.10/dist-packages (from tensorboard<2.16,>=2.15->tensorflow<2.16,>=2.15->tf-keras>=2.14.1->tensorflow-hub) (2.31.0)\n",
            "Requirement already satisfied: tensorboard-data-server<0.8.0,>=0.7.0 in /usr/local/lib/python3.10/dist-packages (from tensorboard<2.16,>=2.15->tensorflow<2.16,>=2.15->tf-keras>=2.14.1->tensorflow-hub) (0.7.2)\n",
            "Requirement already satisfied: werkzeug>=1.0.1 in /usr/local/lib/python3.10/dist-packages (from tensorboard<2.16,>=2.15->tensorflow<2.16,>=2.15->tf-keras>=2.14.1->tensorflow-hub) (3.0.3)\n",
            "Requirement already satisfied: cachetools<6.0,>=2.0.0 in /usr/local/lib/python3.10/dist-packages (from google-auth<3,>=1.6.3->tensorboard<2.16,>=2.15->tensorflow<2.16,>=2.15->tf-keras>=2.14.1->tensorflow-hub) (5.3.3)\n",
            "Requirement already satisfied: pyasn1-modules>=0.2.1 in /usr/local/lib/python3.10/dist-packages (from google-auth<3,>=1.6.3->tensorboard<2.16,>=2.15->tensorflow<2.16,>=2.15->tf-keras>=2.14.1->tensorflow-hub) (0.4.0)\n",
            "Requirement already satisfied: rsa<5,>=3.1.4 in /usr/local/lib/python3.10/dist-packages (from google-auth<3,>=1.6.3->tensorboard<2.16,>=2.15->tensorflow<2.16,>=2.15->tf-keras>=2.14.1->tensorflow-hub) (4.9)\n",
            "Requirement already satisfied: requests-oauthlib>=0.7.0 in /usr/local/lib/python3.10/dist-packages (from google-auth-oauthlib<2,>=0.5->tensorboard<2.16,>=2.15->tensorflow<2.16,>=2.15->tf-keras>=2.14.1->tensorflow-hub) (1.3.1)\n",
            "Requirement already satisfied: charset-normalizer<4,>=2 in /usr/local/lib/python3.10/dist-packages (from requests<3,>=2.21.0->tensorboard<2.16,>=2.15->tensorflow<2.16,>=2.15->tf-keras>=2.14.1->tensorflow-hub) (3.3.2)\n",
            "Requirement already satisfied: idna<4,>=2.5 in /usr/local/lib/python3.10/dist-packages (from requests<3,>=2.21.0->tensorboard<2.16,>=2.15->tensorflow<2.16,>=2.15->tf-keras>=2.14.1->tensorflow-hub) (3.7)\n",
            "Requirement already satisfied: urllib3<3,>=1.21.1 in /usr/local/lib/python3.10/dist-packages (from requests<3,>=2.21.0->tensorboard<2.16,>=2.15->tensorflow<2.16,>=2.15->tf-keras>=2.14.1->tensorflow-hub) (2.0.7)\n",
            "Requirement already satisfied: certifi>=2017.4.17 in /usr/local/lib/python3.10/dist-packages (from requests<3,>=2.21.0->tensorboard<2.16,>=2.15->tensorflow<2.16,>=2.15->tf-keras>=2.14.1->tensorflow-hub) (2024.6.2)\n",
            "Requirement already satisfied: MarkupSafe>=2.1.1 in /usr/local/lib/python3.10/dist-packages (from werkzeug>=1.0.1->tensorboard<2.16,>=2.15->tensorflow<2.16,>=2.15->tf-keras>=2.14.1->tensorflow-hub) (2.1.5)\n",
            "Requirement already satisfied: pyasn1<0.7.0,>=0.4.6 in /usr/local/lib/python3.10/dist-packages (from pyasn1-modules>=0.2.1->google-auth<3,>=1.6.3->tensorboard<2.16,>=2.15->tensorflow<2.16,>=2.15->tf-keras>=2.14.1->tensorflow-hub) (0.6.0)\n",
            "Requirement already satisfied: oauthlib>=3.0.0 in /usr/local/lib/python3.10/dist-packages (from requests-oauthlib>=0.7.0->google-auth-oauthlib<2,>=0.5->tensorboard<2.16,>=2.15->tensorflow<2.16,>=2.15->tf-keras>=2.14.1->tensorflow-hub) (3.2.2)\n"
          ]
        }
      ]
    },
    {
      "cell_type": "code",
      "source": [
        "# Definir una capa personalizada para el modelo preentrenado\n",
        "class EDSRLayer(tf.keras.layers.Layer):\n",
        "    def __init__(self, model_url, **kwargs):\n",
        "        super(EDSRLayer, self).__init__(**kwargs)\n",
        "        self.model = hub.KerasLayer(model_url)\n",
        "\n",
        "    def call(self, inputs):\n",
        "        # Asegurarse de que los inputs tengan 3 canales (el modelo de hub puede esperar una entrada RGB)\n",
        "        inputs_rgb = tf.image.grayscale_to_rgb(inputs)\n",
        "        return self.model(inputs_rgb)"
      ],
      "metadata": {
        "id": "zpJlsS6BeMs3"
      },
      "execution_count": 11,
      "outputs": []
    },
    {
      "cell_type": "code",
      "source": [
        "# Cargar el modelo EDSR preentrenado de TensorFlow Hub\n",
        "model_url = \"https://tfhub.dev/captain-pool/esrgan-tf2/1\""
      ],
      "metadata": {
        "id": "Ygjr8Inud9k1"
      },
      "execution_count": 13,
      "outputs": []
    },
    {
      "cell_type": "code",
      "source": [
        "from tensorflow.keras.layers import UpSampling2D, Conv2D\n"
      ],
      "metadata": {
        "id": "9VFwAQUtmZtT"
      },
      "execution_count": 26,
      "outputs": []
    },
    {
      "cell_type": "code",
      "source": [
        "# Crear un nuevo modelo que incluye el modelo preentrenado\n",
        "input_layer = tf.keras.layers.Input(shape=(256, 256, 1))\n",
        "x = EDSRLayer(model_url)(input_layer)\n",
        "\n",
        "# Capas adicionales de convolución para mantener el tamaño de la imagen\n",
        "x = tf.keras.layers.Conv2D(64, (3, 3), activation='relu', padding='same')(x)\n",
        "#x = tf.keras.layers.Conv2D(64, (3, 3), activation='relu', padding='same')(x)  # Asegurarse de que el padding sea 'same'\n",
        "x = tf.keras.layers.Conv2D(1, (3, 3), activation='sigmoid', padding='same')(x)  # Última capa para mantener la resolución original\n",
        "# Redimensionar la salida a 256x256\n",
        "output_layer = tf.keras.layers.Resizing(256, 256, interpolation='bilinear')(x)\n",
        "\n",
        "\n",
        "\n",
        "model = tf.keras.models.Model(inputs=input_layer, outputs=output_layer)\n",
        "model.compile(optimizer=tf.keras.optimizers.Adam(learning_rate=1e-4), loss='mean_squared_error', metrics=['accuracy'])\n",
        "model.summary()"
      ],
      "metadata": {
        "colab": {
          "base_uri": "https://localhost:8080/"
        },
        "id": "bDDfxAXmeFBS",
        "outputId": "38d69dd6-a428-4110-86f7-e68ea1ddb603"
      },
      "execution_count": 31,
      "outputs": [
        {
          "output_type": "stream",
          "name": "stdout",
          "text": [
            "Model: \"model_4\"\n",
            "_________________________________________________________________\n",
            " Layer (type)                Output Shape              Param #   \n",
            "=================================================================\n",
            " input_12 (InputLayer)       [(None, 256, 256, 1)]     0         \n",
            "                                                                 \n",
            " edsr_layer_10 (EDSRLayer)   (None, 1024, 1024, 3)     4605955   \n",
            "                                                                 \n",
            " conv2d_12 (Conv2D)          (None, 1024, 1024, 64)    1792      \n",
            "                                                                 \n",
            " conv2d_13 (Conv2D)          (None, 1024, 1024, 1)     577       \n",
            "                                                                 \n",
            " resizing_2 (Resizing)       (None, 256, 256, 1)       0         \n",
            "                                                                 \n",
            "=================================================================\n",
            "Total params: 4608324 (17.58 MB)\n",
            "Trainable params: 2369 (9.25 KB)\n",
            "Non-trainable params: 4605955 (17.57 MB)\n",
            "_________________________________________________________________\n"
          ]
        }
      ]
    },
    {
      "cell_type": "code",
      "source": [
        "# Verificar formas del modelo\n",
        "print(f\"Input shape: {input_layer.shape}\")\n",
        "print(f\"Output shape: {model.output.shape}\")"
      ],
      "metadata": {
        "colab": {
          "base_uri": "https://localhost:8080/"
        },
        "id": "4BI_FX_hf1dB",
        "outputId": "a9b1ec39-8760-4d65-b8db-990cbc2ff8e2"
      },
      "execution_count": 17,
      "outputs": [
        {
          "output_type": "stream",
          "name": "stdout",
          "text": [
            "Input shape: (None, 256, 256, 1)\n",
            "Output shape: (None, 256, 256, 1)\n"
          ]
        }
      ]
    },
    {
      "cell_type": "code",
      "source": [
        "# Callbacks para el entrenamiento\n",
        "checkpoint = ModelCheckpoint('edsr_finetuned.h5', monitor='val_loss', save_best_only=True, mode='min')\n",
        "reduce_lr = ReduceLROnPlateau(monitor='val_loss', factor=0.5, patience=5, min_lr=1e-6)"
      ],
      "metadata": {
        "id": "ICn-3bzIf8v6"
      },
      "execution_count": 18,
      "outputs": []
    },
    {
      "cell_type": "code",
      "source": [
        "# Generador de datos con augmentación\n",
        "datagen = ImageDataGenerator(\n",
        "    rotation_range=10,\n",
        "    width_shift_range=0.1,\n",
        "    height_shift_range=0.1,\n",
        "    zoom_range=0.1,\n",
        "    horizontal_flip=True\n",
        ")"
      ],
      "metadata": {
        "id": "U41HbWxzgBV-"
      },
      "execution_count": 19,
      "outputs": []
    },
    {
      "cell_type": "code",
      "source": [
        "# Ajuste del generador a los datos de entrenamiento\n",
        "datagen.fit(x_train)"
      ],
      "metadata": {
        "id": "pkVOWPIOgErs"
      },
      "execution_count": 20,
      "outputs": []
    },
    {
      "cell_type": "code",
      "source": [
        "# Verificación de formas en la primera batch del generador de datos\n",
        "x_batch, y_batch = next(datagen.flow(x_train, y_train, batch_size=16))\n",
        "print(f\"x_batch shape: {x_batch.shape}\")\n",
        "print(f\"y_batch shape: {y_batch.shape}\")"
      ],
      "metadata": {
        "colab": {
          "base_uri": "https://localhost:8080/"
        },
        "id": "IHsX3oxzgIGO",
        "outputId": "b4fac21b-e4b9-4c56-f761-7f7cdf0266e1"
      },
      "execution_count": 21,
      "outputs": [
        {
          "output_type": "stream",
          "name": "stdout",
          "text": [
            "x_batch shape: (16, 256, 256, 1)\n",
            "y_batch shape: (16, 256, 256, 1)\n"
          ]
        }
      ]
    },
    {
      "cell_type": "code",
      "source": [
        "# Entrenamiento del modelo con el generador de datos\n",
        "history = model.fit(datagen.flow(x_train, y_train, batch_size=4),\n",
        "                    validation_data=(x_test, y_test),\n",
        "                    epochs=50,\n",
        "                    callbacks=[checkpoint, reduce_lr])"
      ],
      "metadata": {
        "colab": {
          "base_uri": "https://localhost:8080/",
          "height": 530
        },
        "id": "voSQzD76gNe6",
        "outputId": "b89fc9ab-a19f-4310-c191-14b1131df5a8"
      },
      "execution_count": 32,
      "outputs": [
        {
          "output_type": "stream",
          "name": "stdout",
          "text": [
            "Epoch 1/50\n",
            "65/65 [==============================] - ETA: 0s - loss: 0.1482 - accuracy: 0.4548"
          ]
        },
        {
          "output_type": "error",
          "ename": "ResourceExhaustedError",
          "evalue": "Graph execution error:\n\nDetected at node conv2d_transpose defined at (most recent call last):\n<stack traces unavailable>\nOOM when allocating tensor with shape[32,32,1024,1024] and type float on /job:localhost/replica:0/task:0/device:GPU:0 by allocator GPU_0_bfc\n\t [[{{node conv2d_transpose}}]]\nHint: If you want to see a list of allocated tensors when OOM happens, add report_tensor_allocations_upon_oom to RunOptions for current allocation info. This isn't available when running in Eager mode.\n [Op:__inference_test_function_287144]",
          "traceback": [
            "\u001b[0;31m---------------------------------------------------------------------------\u001b[0m",
            "\u001b[0;31mResourceExhaustedError\u001b[0m                    Traceback (most recent call last)",
            "\u001b[0;32m<ipython-input-32-958371787126>\u001b[0m in \u001b[0;36m<cell line: 2>\u001b[0;34m()\u001b[0m\n\u001b[1;32m      1\u001b[0m \u001b[0;31m# Entrenamiento del modelo con el generador de datos\u001b[0m\u001b[0;34m\u001b[0m\u001b[0;34m\u001b[0m\u001b[0m\n\u001b[0;32m----> 2\u001b[0;31m history = model.fit(datagen.flow(x_train, y_train, batch_size=4),\n\u001b[0m\u001b[1;32m      3\u001b[0m                     \u001b[0mvalidation_data\u001b[0m\u001b[0;34m=\u001b[0m\u001b[0;34m(\u001b[0m\u001b[0mx_test\u001b[0m\u001b[0;34m,\u001b[0m \u001b[0my_test\u001b[0m\u001b[0;34m)\u001b[0m\u001b[0;34m,\u001b[0m\u001b[0;34m\u001b[0m\u001b[0;34m\u001b[0m\u001b[0m\n\u001b[1;32m      4\u001b[0m                     \u001b[0mepochs\u001b[0m\u001b[0;34m=\u001b[0m\u001b[0;36m50\u001b[0m\u001b[0;34m,\u001b[0m\u001b[0;34m\u001b[0m\u001b[0;34m\u001b[0m\u001b[0m\n\u001b[1;32m      5\u001b[0m                     callbacks=[checkpoint, reduce_lr])\n",
            "\u001b[0;32m/usr/local/lib/python3.10/dist-packages/keras/src/utils/traceback_utils.py\u001b[0m in \u001b[0;36merror_handler\u001b[0;34m(*args, **kwargs)\u001b[0m\n\u001b[1;32m     68\u001b[0m             \u001b[0;31m# To get the full stack trace, call:\u001b[0m\u001b[0;34m\u001b[0m\u001b[0;34m\u001b[0m\u001b[0m\n\u001b[1;32m     69\u001b[0m             \u001b[0;31m# `tf.debugging.disable_traceback_filtering()`\u001b[0m\u001b[0;34m\u001b[0m\u001b[0;34m\u001b[0m\u001b[0m\n\u001b[0;32m---> 70\u001b[0;31m             \u001b[0;32mraise\u001b[0m \u001b[0me\u001b[0m\u001b[0;34m.\u001b[0m\u001b[0mwith_traceback\u001b[0m\u001b[0;34m(\u001b[0m\u001b[0mfiltered_tb\u001b[0m\u001b[0;34m)\u001b[0m \u001b[0;32mfrom\u001b[0m \u001b[0;32mNone\u001b[0m\u001b[0;34m\u001b[0m\u001b[0;34m\u001b[0m\u001b[0m\n\u001b[0m\u001b[1;32m     71\u001b[0m         \u001b[0;32mfinally\u001b[0m\u001b[0;34m:\u001b[0m\u001b[0;34m\u001b[0m\u001b[0;34m\u001b[0m\u001b[0m\n\u001b[1;32m     72\u001b[0m             \u001b[0;32mdel\u001b[0m \u001b[0mfiltered_tb\u001b[0m\u001b[0;34m\u001b[0m\u001b[0;34m\u001b[0m\u001b[0m\n",
            "\u001b[0;32m/usr/local/lib/python3.10/dist-packages/tensorflow/python/eager/execute.py\u001b[0m in \u001b[0;36mquick_execute\u001b[0;34m(op_name, num_outputs, inputs, attrs, ctx, name)\u001b[0m\n\u001b[1;32m     51\u001b[0m   \u001b[0;32mtry\u001b[0m\u001b[0;34m:\u001b[0m\u001b[0;34m\u001b[0m\u001b[0;34m\u001b[0m\u001b[0m\n\u001b[1;32m     52\u001b[0m     \u001b[0mctx\u001b[0m\u001b[0;34m.\u001b[0m\u001b[0mensure_initialized\u001b[0m\u001b[0;34m(\u001b[0m\u001b[0;34m)\u001b[0m\u001b[0;34m\u001b[0m\u001b[0;34m\u001b[0m\u001b[0m\n\u001b[0;32m---> 53\u001b[0;31m     tensors = pywrap_tfe.TFE_Py_Execute(ctx._handle, device_name, op_name,\n\u001b[0m\u001b[1;32m     54\u001b[0m                                         inputs, attrs, num_outputs)\n\u001b[1;32m     55\u001b[0m   \u001b[0;32mexcept\u001b[0m \u001b[0mcore\u001b[0m\u001b[0;34m.\u001b[0m\u001b[0m_NotOkStatusException\u001b[0m \u001b[0;32mas\u001b[0m \u001b[0me\u001b[0m\u001b[0;34m:\u001b[0m\u001b[0;34m\u001b[0m\u001b[0;34m\u001b[0m\u001b[0m\n",
            "\u001b[0;31mResourceExhaustedError\u001b[0m: Graph execution error:\n\nDetected at node conv2d_transpose defined at (most recent call last):\n<stack traces unavailable>\nOOM when allocating tensor with shape[32,32,1024,1024] and type float on /job:localhost/replica:0/task:0/device:GPU:0 by allocator GPU_0_bfc\n\t [[{{node conv2d_transpose}}]]\nHint: If you want to see a list of allocated tensors when OOM happens, add report_tensor_allocations_upon_oom to RunOptions for current allocation info. This isn't available when running in Eager mode.\n [Op:__inference_test_function_287144]"
          ]
        }
      ]
    }
  ]
}